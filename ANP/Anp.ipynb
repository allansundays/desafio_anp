{
 "cells": [
  {
   "cell_type": "markdown",
   "id": "26edf0b4-c9d4-4ccc-a798-6148a1e9f5d4",
   "metadata": {},
   "source": [
    "# Análise ANP"
   ]
  },
  {
   "cell_type": "markdown",
   "id": "a98b9bf6-9a85-4ff7-9a4f-47cbc093929e",
   "metadata": {},
   "source": [
    "# Introdução"
   ]
  },
  {
   "cell_type": "markdown",
   "id": "23d30204-0d34-4109-8952-e5eb77511c6f",
   "metadata": {},
   "source": [
    "### Problema"
   ]
  },
  {
   "cell_type": "markdown",
   "id": "3fc658da-df2a-49d6-abe4-402f1a864218",
   "metadata": {},
   "source": [
    "No mercado de revenda de combustíveis, há uma distinção entre postos embandeirados, aqueles\n",
    "que celebram contrato de exclusividade com uma distribuidora específica e podem explorar sua\n",
    "marca comercial, e postos bandeira branca, que são independentes e não possuem essas restrições\n",
    "contratuais, podendo adquirir combustível de qualquer distribuidora.\n",
    "\n",
    "\n",
    "Um cliente solicitou uma análise da frequência de ações de fiscalização da Agência Nacional do\n",
    "Petróleo, Gás Natural e Biocombustíveis (ANP). Utilizando os dados abertos disponibilizados pela\n",
    "ANP, responda o primeiro questionamento: **é possível indicar que postos bandeira branca são mais\n",
    "fiscalizados que postos embandeirados?**\n",
    "\n",
    "\n",
    "Considerando que a maioria do mercado de revenda é dominada por postos embandeirados, a\n",
    "análise estatística deve ser ajustada para refletir essa proporção. Ou seja, qual é a relação entre a\n",
    "fiscalização de postos bandeira branca e postos embandeirados, levando em consideração que\n",
    "existem mais postos embandeirados? Esse cálculo afeta a análise anterior?"
   ]
  },
  {
   "cell_type": "markdown",
   "id": "e04e7979-9ba8-4822-89c9-5f429ddb0e38",
   "metadata": {},
   "source": [
    "### Dados:\n",
    "**Dados Cadastrais dos Revendedores Varejistas de Combustíveis Automotivos**\n",
    "\n",
    "\n",
    "https://www.gov.br/anp/pt-br/centrais-de-conteudo/dados-abertos/dados-cadastrais-dos-revendedores-varejistas-de-combustiveis-automotivos\n",
    "\n",
    "**metadados**:\n",
    "\n",
    "https://www.gov.br/anp/pt-br/centrais-de-conteudo/dados-abertos/arquivos/arquivos-dados-cadastrais-dos-revendedores-varejistas-de-combustiveis-automotivos/metadados-revendedores-varejistas-combustiveis-automoveis.pdf\n",
    "\n",
    "**Ações de Fiscalização**\n",
    "\n",
    "https://www.gov.br/anp/pt-br/centrais-de-conteudo/dados-abertos/acoes-de-fiscalizacao\n",
    "\n",
    "**metadados**:\n",
    "\n",
    "https://www.gov.br/anp/pt-br/centrais-de-conteudo/dados-abertos/arquivos/arquivos-acoes-de-fiscalizacao/metadados-acoes-fiscalizacao.pdf\n"
   ]
  },
  {
   "cell_type": "markdown",
   "id": "478cc419-ce18-448b-acf8-8024b5f7ddf8",
   "metadata": {},
   "source": [
    "**Bandeira Branca** - postos que são independentes e não possuem essas restrições contratuais, podendo adquirir combustível de qualquer distribuidora\n",
    "\n",
    "**Embandeirados** - Postos com contrato de exclusividade com uma distribuidora específica"
   ]
  },
  {
   "cell_type": "code",
   "execution_count": 1,
   "id": "effae173-a230-4178-a244-4f18813450b8",
   "metadata": {
    "tags": []
   },
   "outputs": [
    {
     "name": "stdout",
     "output_type": "stream",
     "text": [
      "Requirement already satisfied: pandas in c:\\users\\allan\\anaconda3\\lib\\site-packages (1.1.5)\n",
      "Requirement already satisfied: pytz>=2017.2 in c:\\users\\allan\\anaconda3\\lib\\site-packages (from pandas) (2021.3)\n",
      "Requirement already satisfied: python-dateutil>=2.7.3 in c:\\users\\allan\\anaconda3\\lib\\site-packages (from pandas) (2.8.2)\n",
      "Requirement already satisfied: numpy>=1.15.4 in c:\\users\\allan\\anaconda3\\lib\\site-packages (from pandas) (1.21.5)\n",
      "Requirement already satisfied: six>=1.5 in c:\\users\\allan\\anaconda3\\lib\\site-packages (from python-dateutil>=2.7.3->pandas) (1.16.0)\n",
      "Requirement already satisfied: openpyxl in c:\\users\\allan\\anaconda3\\lib\\site-packages (3.0.9)\n",
      "Requirement already satisfied: et-xmlfile in c:\\users\\allan\\anaconda3\\lib\\site-packages (from openpyxl) (1.1.0)\n"
     ]
    }
   ],
   "source": [
    "# isntalando libs\n",
    "!pip install pandas\n",
    "!pip install openpyxl"
   ]
  },
  {
   "cell_type": "code",
   "execution_count": 2,
   "id": "ac8b3a4f-71cf-44a5-bf53-4b005dbb82c0",
   "metadata": {},
   "outputs": [],
   "source": [
    "# importando dependências\n",
    "import pandas as pd"
   ]
  },
  {
   "cell_type": "markdown",
   "id": "1b9929e4-3205-4794-b0e3-30005524f7c4",
   "metadata": {},
   "source": [
    "## Seção 1\n",
    "\n",
    "**Objetivo**: Quantificar a relação entre postos de Bandeira Branca e Embandeirados conforme a relação da ANP\n",
    "\n",
    "**Descrição**: Obtidos os dados, busca-se a compreensão da quantidade de postos Bandeira Branca e Embandeirados cadastrados pela ANP e a proporção entre elas e para com o total de postos. Embora não seja um fim em si mesmo, esta etapa é fundamental para a completude da análise."
   ]
  },
  {
   "cell_type": "code",
   "execution_count": 4,
   "id": "895f3f88-2ec5-4886-97c5-5a020e0ab63b",
   "metadata": {},
   "outputs": [],
   "source": [
    "# lendo dados de postos cadastrados\n",
    "df = pd.read_excel('dados_anp.xlsx', engine='openpyxl')"
   ]
  },
  {
   "cell_type": "code",
   "execution_count": 5,
   "id": "890d4638-d5ce-436a-9250-83ca72ad38d3",
   "metadata": {
    "scrolled": true
   },
   "outputs": [
    {
     "data": {
      "text/html": [
       "<div>\n",
       "<style scoped>\n",
       "    .dataframe tbody tr th:only-of-type {\n",
       "        vertical-align: middle;\n",
       "    }\n",
       "\n",
       "    .dataframe tbody tr th {\n",
       "        vertical-align: top;\n",
       "    }\n",
       "\n",
       "    .dataframe thead th {\n",
       "        text-align: right;\n",
       "    }\n",
       "</style>\n",
       "<table border=\"1\" class=\"dataframe\">\n",
       "  <thead>\n",
       "    <tr style=\"text-align: right;\">\n",
       "      <th></th>\n",
       "      <th>CODIGOISIMP</th>\n",
       "      <th>AUTORIZACAO</th>\n",
       "      <th>DATAPUBLICACAO</th>\n",
       "      <th>RAZAOSOCIAL</th>\n",
       "      <th>CNPJ</th>\n",
       "      <th>ENDERECO</th>\n",
       "      <th>COMPLEMENTO</th>\n",
       "      <th>BAIRRO</th>\n",
       "      <th>CEP</th>\n",
       "      <th>UF</th>\n",
       "      <th>MUNICIPIO</th>\n",
       "      <th>BANDEIRA</th>\n",
       "      <th>DATAVINCULACAO</th>\n",
       "    </tr>\n",
       "  </thead>\n",
       "  <tbody>\n",
       "    <tr>\n",
       "      <th>0</th>\n",
       "      <td>1022007</td>\n",
       "      <td>PR/SP0019777</td>\n",
       "      <td>2002-01-23</td>\n",
       "      <td>AUTO POSTO SAKAMOTO LTDA</td>\n",
       "      <td>49051667000102</td>\n",
       "      <td>RODOVIA PRESIDENTE DUTRA,  S/N</td>\n",
       "      <td>KM 210,5-SENT SP/RJ</td>\n",
       "      <td>BONSUCESSO</td>\n",
       "      <td>7178580</td>\n",
       "      <td>SP</td>\n",
       "      <td>GUARULHOS</td>\n",
       "      <td>VIBRA</td>\n",
       "      <td>2002-01-23</td>\n",
       "    </tr>\n",
       "    <tr>\n",
       "      <th>1</th>\n",
       "      <td>1227493</td>\n",
       "      <td>PR/PI0177467</td>\n",
       "      <td>2016-09-28</td>\n",
       "      <td>POSTO RAMALEY LTDA</td>\n",
       "      <td>19052407000190</td>\n",
       "      <td>R SAO NICOLAU,  940</td>\n",
       "      <td>NaN</td>\n",
       "      <td>CENTRO</td>\n",
       "      <td>64315000</td>\n",
       "      <td>PI</td>\n",
       "      <td>SANTA CRUZ DOS MILAGRES</td>\n",
       "      <td>BANDEIRA BRANCA</td>\n",
       "      <td>2016-09-28</td>\n",
       "    </tr>\n",
       "    <tr>\n",
       "      <th>2</th>\n",
       "      <td>1000022</td>\n",
       "      <td>PR/SP0021686</td>\n",
       "      <td>2002-02-28</td>\n",
       "      <td>COMPETRO COMERCIO E DISTRIBUICAO DE DERIVADOS ...</td>\n",
       "      <td>3188000474</td>\n",
       "      <td>AVENIDA SANTOS DUMONT,  701</td>\n",
       "      <td>NaN</td>\n",
       "      <td>AEROPORTO</td>\n",
       "      <td>18065290</td>\n",
       "      <td>SP</td>\n",
       "      <td>SOROCABA</td>\n",
       "      <td>BANDEIRA BRANCA</td>\n",
       "      <td>2018-07-27</td>\n",
       "    </tr>\n",
       "    <tr>\n",
       "      <th>3</th>\n",
       "      <td>1175475</td>\n",
       "      <td>AV/SP0088382</td>\n",
       "      <td>2011-07-12</td>\n",
       "      <td>M &amp; J COMÃ‰RCIO DE COMBUSTÃVEIS E LUBRIFICANT...</td>\n",
       "      <td>5678449000127</td>\n",
       "      <td>AVENIDA EMILIO ANTONON,  S/N</td>\n",
       "      <td>NaN</td>\n",
       "      <td>CHACARA AEROPORTO</td>\n",
       "      <td>13212010</td>\n",
       "      <td>SP</td>\n",
       "      <td>JUNDIAI</td>\n",
       "      <td>RAIZEN</td>\n",
       "      <td>2011-07-12</td>\n",
       "    </tr>\n",
       "    <tr>\n",
       "      <th>4</th>\n",
       "      <td>1226945</td>\n",
       "      <td>PR/RS0177246</td>\n",
       "      <td>2016-09-14</td>\n",
       "      <td>METROPOLITANO COMERCIO DE COMBUSTIVEIS LTDA</td>\n",
       "      <td>88587589000621</td>\n",
       "      <td>RUA BOQUEIRAO,  1401</td>\n",
       "      <td>NaN</td>\n",
       "      <td>IGARA</td>\n",
       "      <td>92410350</td>\n",
       "      <td>RS</td>\n",
       "      <td>CANOAS</td>\n",
       "      <td>BANDEIRA BRANCA</td>\n",
       "      <td>2016-09-14</td>\n",
       "    </tr>\n",
       "  </tbody>\n",
       "</table>\n",
       "</div>"
      ],
      "text/plain": [
       "   CODIGOISIMP   AUTORIZACAO DATAPUBLICACAO  \\\n",
       "0      1022007  PR/SP0019777     2002-01-23   \n",
       "1      1227493  PR/PI0177467     2016-09-28   \n",
       "2      1000022  PR/SP0021686     2002-02-28   \n",
       "3      1175475  AV/SP0088382     2011-07-12   \n",
       "4      1226945  PR/RS0177246     2016-09-14   \n",
       "\n",
       "                                         RAZAOSOCIAL            CNPJ  \\\n",
       "0                           AUTO POSTO SAKAMOTO LTDA  49051667000102   \n",
       "1                                 POSTO RAMALEY LTDA  19052407000190   \n",
       "2  COMPETRO COMERCIO E DISTRIBUICAO DE DERIVADOS ...      3188000474   \n",
       "3  M & J COMÃ‰RCIO DE COMBUSTÃVEIS E LUBRIFICANT...   5678449000127   \n",
       "4        METROPOLITANO COMERCIO DE COMBUSTIVEIS LTDA  88587589000621   \n",
       "\n",
       "                         ENDERECO          COMPLEMENTO             BAIRRO  \\\n",
       "0  RODOVIA PRESIDENTE DUTRA,  S/N  KM 210,5-SENT SP/RJ         BONSUCESSO   \n",
       "1             R SAO NICOLAU,  940                  NaN             CENTRO   \n",
       "2     AVENIDA SANTOS DUMONT,  701                  NaN          AEROPORTO   \n",
       "3    AVENIDA EMILIO ANTONON,  S/N                  NaN  CHACARA AEROPORTO   \n",
       "4            RUA BOQUEIRAO,  1401                  NaN              IGARA   \n",
       "\n",
       "        CEP  UF                MUNICIPIO         BANDEIRA DATAVINCULACAO  \n",
       "0   7178580  SP                GUARULHOS            VIBRA     2002-01-23  \n",
       "1  64315000  PI  SANTA CRUZ DOS MILAGRES  BANDEIRA BRANCA     2016-09-28  \n",
       "2  18065290  SP                 SOROCABA  BANDEIRA BRANCA     2018-07-27  \n",
       "3  13212010  SP                  JUNDIAI           RAIZEN     2011-07-12  \n",
       "4  92410350  RS                   CANOAS  BANDEIRA BRANCA     2016-09-14  "
      ]
     },
     "execution_count": 5,
     "metadata": {},
     "output_type": "execute_result"
    }
   ],
   "source": [
    "# visualizando dados\n",
    "df.head()"
   ]
  },
  {
   "cell_type": "code",
   "execution_count": 6,
   "id": "7246740b-cd1a-4fc9-8a7b-1590dc25e2c8",
   "metadata": {},
   "outputs": [
    {
     "data": {
      "text/plain": [
       "(44018, 13)"
      ]
     },
     "execution_count": 6,
     "metadata": {},
     "output_type": "execute_result"
    }
   ],
   "source": [
    "df.shape"
   ]
  },
  {
   "cell_type": "code",
   "execution_count": 7,
   "id": "6d9fd7bb-7a1a-44eb-8a94-af02947c661b",
   "metadata": {},
   "outputs": [
    {
     "data": {
      "text/plain": [
       "CODIGOISIMP                int64\n",
       "AUTORIZACAO               object\n",
       "DATAPUBLICACAO    datetime64[ns]\n",
       "RAZAOSOCIAL               object\n",
       "CNPJ                       int64\n",
       "ENDERECO                  object\n",
       "COMPLEMENTO               object\n",
       "BAIRRO                    object\n",
       "CEP                        int64\n",
       "UF                        object\n",
       "MUNICIPIO                 object\n",
       "BANDEIRA                  object\n",
       "DATAVINCULACAO    datetime64[ns]\n",
       "dtype: object"
      ]
     },
     "execution_count": 7,
     "metadata": {},
     "output_type": "execute_result"
    }
   ],
   "source": [
    "df.dtypes"
   ]
  },
  {
   "cell_type": "markdown",
   "id": "00b6d73a-c975-4c24-8e8d-93cfcf50de1b",
   "metadata": {},
   "source": [
    "Verificamos que temos 15 colunas e 44.018 instancias, no caso, postos cadastrados"
   ]
  },
  {
   "cell_type": "markdown",
   "id": "aed919b4-bf8a-432b-b8df-6dbf96e69e63",
   "metadata": {},
   "source": [
    "Primeiro passo é criar uma coluna nova que diga se o posto é bandeira branca ou embandeirado, visto que na coluna bandeira os dados vem com o nome da distribuidora."
   ]
  },
  {
   "cell_type": "code",
   "execution_count": 8,
   "id": "d399c72e-fadc-4d23-9493-426d3e59a3a7",
   "metadata": {},
   "outputs": [],
   "source": [
    "df['BANDEIRA_BRANCA'] = df['BANDEIRA'].apply(lambda x: 'sim' if x == 'BANDEIRA BRANCA' else 'não')"
   ]
  },
  {
   "cell_type": "code",
   "execution_count": 9,
   "id": "86ad56b3-1650-4362-8ecd-fe375424a9a7",
   "metadata": {},
   "outputs": [],
   "source": [
    "df['BANDEIRA_BRANCA_NUM'] = df['BANDEIRA'].apply(lambda x: 1 if x == 'BANDEIRA BRANCA' else 0)"
   ]
  },
  {
   "cell_type": "code",
   "execution_count": 10,
   "id": "e1416936-a72e-474d-9105-8c5ffb0a6040",
   "metadata": {},
   "outputs": [
    {
     "data": {
      "text/html": [
       "<div>\n",
       "<style scoped>\n",
       "    .dataframe tbody tr th:only-of-type {\n",
       "        vertical-align: middle;\n",
       "    }\n",
       "\n",
       "    .dataframe tbody tr th {\n",
       "        vertical-align: top;\n",
       "    }\n",
       "\n",
       "    .dataframe thead th {\n",
       "        text-align: right;\n",
       "    }\n",
       "</style>\n",
       "<table border=\"1\" class=\"dataframe\">\n",
       "  <thead>\n",
       "    <tr style=\"text-align: right;\">\n",
       "      <th></th>\n",
       "      <th>CODIGOISIMP</th>\n",
       "      <th>AUTORIZACAO</th>\n",
       "      <th>DATAPUBLICACAO</th>\n",
       "      <th>RAZAOSOCIAL</th>\n",
       "      <th>CNPJ</th>\n",
       "      <th>ENDERECO</th>\n",
       "      <th>COMPLEMENTO</th>\n",
       "      <th>BAIRRO</th>\n",
       "      <th>CEP</th>\n",
       "      <th>UF</th>\n",
       "      <th>MUNICIPIO</th>\n",
       "      <th>BANDEIRA</th>\n",
       "      <th>DATAVINCULACAO</th>\n",
       "      <th>BANDEIRA_BRANCA</th>\n",
       "      <th>BANDEIRA_BRANCA_NUM</th>\n",
       "    </tr>\n",
       "  </thead>\n",
       "  <tbody>\n",
       "    <tr>\n",
       "      <th>0</th>\n",
       "      <td>1022007</td>\n",
       "      <td>PR/SP0019777</td>\n",
       "      <td>2002-01-23</td>\n",
       "      <td>AUTO POSTO SAKAMOTO LTDA</td>\n",
       "      <td>49051667000102</td>\n",
       "      <td>RODOVIA PRESIDENTE DUTRA,  S/N</td>\n",
       "      <td>KM 210,5-SENT SP/RJ</td>\n",
       "      <td>BONSUCESSO</td>\n",
       "      <td>7178580</td>\n",
       "      <td>SP</td>\n",
       "      <td>GUARULHOS</td>\n",
       "      <td>VIBRA</td>\n",
       "      <td>2002-01-23</td>\n",
       "      <td>não</td>\n",
       "      <td>0</td>\n",
       "    </tr>\n",
       "    <tr>\n",
       "      <th>1</th>\n",
       "      <td>1227493</td>\n",
       "      <td>PR/PI0177467</td>\n",
       "      <td>2016-09-28</td>\n",
       "      <td>POSTO RAMALEY LTDA</td>\n",
       "      <td>19052407000190</td>\n",
       "      <td>R SAO NICOLAU,  940</td>\n",
       "      <td>NaN</td>\n",
       "      <td>CENTRO</td>\n",
       "      <td>64315000</td>\n",
       "      <td>PI</td>\n",
       "      <td>SANTA CRUZ DOS MILAGRES</td>\n",
       "      <td>BANDEIRA BRANCA</td>\n",
       "      <td>2016-09-28</td>\n",
       "      <td>sim</td>\n",
       "      <td>1</td>\n",
       "    </tr>\n",
       "    <tr>\n",
       "      <th>2</th>\n",
       "      <td>1000022</td>\n",
       "      <td>PR/SP0021686</td>\n",
       "      <td>2002-02-28</td>\n",
       "      <td>COMPETRO COMERCIO E DISTRIBUICAO DE DERIVADOS ...</td>\n",
       "      <td>3188000474</td>\n",
       "      <td>AVENIDA SANTOS DUMONT,  701</td>\n",
       "      <td>NaN</td>\n",
       "      <td>AEROPORTO</td>\n",
       "      <td>18065290</td>\n",
       "      <td>SP</td>\n",
       "      <td>SOROCABA</td>\n",
       "      <td>BANDEIRA BRANCA</td>\n",
       "      <td>2018-07-27</td>\n",
       "      <td>sim</td>\n",
       "      <td>1</td>\n",
       "    </tr>\n",
       "    <tr>\n",
       "      <th>3</th>\n",
       "      <td>1175475</td>\n",
       "      <td>AV/SP0088382</td>\n",
       "      <td>2011-07-12</td>\n",
       "      <td>M &amp; J COMÃ‰RCIO DE COMBUSTÃVEIS E LUBRIFICANT...</td>\n",
       "      <td>5678449000127</td>\n",
       "      <td>AVENIDA EMILIO ANTONON,  S/N</td>\n",
       "      <td>NaN</td>\n",
       "      <td>CHACARA AEROPORTO</td>\n",
       "      <td>13212010</td>\n",
       "      <td>SP</td>\n",
       "      <td>JUNDIAI</td>\n",
       "      <td>RAIZEN</td>\n",
       "      <td>2011-07-12</td>\n",
       "      <td>não</td>\n",
       "      <td>0</td>\n",
       "    </tr>\n",
       "    <tr>\n",
       "      <th>4</th>\n",
       "      <td>1226945</td>\n",
       "      <td>PR/RS0177246</td>\n",
       "      <td>2016-09-14</td>\n",
       "      <td>METROPOLITANO COMERCIO DE COMBUSTIVEIS LTDA</td>\n",
       "      <td>88587589000621</td>\n",
       "      <td>RUA BOQUEIRAO,  1401</td>\n",
       "      <td>NaN</td>\n",
       "      <td>IGARA</td>\n",
       "      <td>92410350</td>\n",
       "      <td>RS</td>\n",
       "      <td>CANOAS</td>\n",
       "      <td>BANDEIRA BRANCA</td>\n",
       "      <td>2016-09-14</td>\n",
       "      <td>sim</td>\n",
       "      <td>1</td>\n",
       "    </tr>\n",
       "    <tr>\n",
       "      <th>...</th>\n",
       "      <td>...</td>\n",
       "      <td>...</td>\n",
       "      <td>...</td>\n",
       "      <td>...</td>\n",
       "      <td>...</td>\n",
       "      <td>...</td>\n",
       "      <td>...</td>\n",
       "      <td>...</td>\n",
       "      <td>...</td>\n",
       "      <td>...</td>\n",
       "      <td>...</td>\n",
       "      <td>...</td>\n",
       "      <td>...</td>\n",
       "      <td>...</td>\n",
       "      <td>...</td>\n",
       "    </tr>\n",
       "    <tr>\n",
       "      <th>44013</th>\n",
       "      <td>1296304</td>\n",
       "      <td>PR/MG0244049</td>\n",
       "      <td>2023-10-18</td>\n",
       "      <td>POSTO FIRME NOSSA SENHORA APARECIDA LTDA</td>\n",
       "      <td>50508806000163</td>\n",
       "      <td>PRACA JOSE MACIEL,  39</td>\n",
       "      <td>NaN</td>\n",
       "      <td>CENTRO</td>\n",
       "      <td>36568000</td>\n",
       "      <td>MG</td>\n",
       "      <td>PORTO FIRME</td>\n",
       "      <td>ALESAT</td>\n",
       "      <td>2023-10-18</td>\n",
       "      <td>não</td>\n",
       "      <td>0</td>\n",
       "    </tr>\n",
       "    <tr>\n",
       "      <th>44014</th>\n",
       "      <td>1296307</td>\n",
       "      <td>PR/GO0244057</td>\n",
       "      <td>2023-10-18</td>\n",
       "      <td>AURILENE DOS SANTOS PEREIRA LTDA</td>\n",
       "      <td>42656379000132</td>\n",
       "      <td>AVENIDA 02,  S/N</td>\n",
       "      <td>QUADRA108                 LOTE  34 A</td>\n",
       "      <td>PARQUE ALVORADA I</td>\n",
       "      <td>72836200</td>\n",
       "      <td>GO</td>\n",
       "      <td>LUZIANIA</td>\n",
       "      <td>BANDEIRA BRANCA</td>\n",
       "      <td>2023-10-18</td>\n",
       "      <td>sim</td>\n",
       "      <td>1</td>\n",
       "    </tr>\n",
       "    <tr>\n",
       "      <th>44015</th>\n",
       "      <td>1296297</td>\n",
       "      <td>PR/SP0244060</td>\n",
       "      <td>2023-10-18</td>\n",
       "      <td>AUTO POSTO 3 IRMAOS LTDA</td>\n",
       "      <td>51881887000105</td>\n",
       "      <td>RUA FREI MANOEL BRAGDIA,  506</td>\n",
       "      <td>NaN</td>\n",
       "      <td>CENTRO</td>\n",
       "      <td>19960029</td>\n",
       "      <td>SP</td>\n",
       "      <td>CAMPOS NOVOS PAULISTA</td>\n",
       "      <td>BANDEIRA BRANCA</td>\n",
       "      <td>2023-10-18</td>\n",
       "      <td>sim</td>\n",
       "      <td>1</td>\n",
       "    </tr>\n",
       "    <tr>\n",
       "      <th>44016</th>\n",
       "      <td>1296308</td>\n",
       "      <td>PR/BA0244073</td>\n",
       "      <td>2023-10-18</td>\n",
       "      <td>LAGOA DO GUEDES COMERCIO DE COMBUSTIVEIS LTDA</td>\n",
       "      <td>48049179000106</td>\n",
       "      <td>COMUNIDADE LAGOA DO GUEDES,  S/N</td>\n",
       "      <td>MARGEM DA ROD BA 220KM    128</td>\n",
       "      <td>ZONA RURAL</td>\n",
       "      <td>48500000</td>\n",
       "      <td>BA</td>\n",
       "      <td>EUCLIDES DA CUNHA</td>\n",
       "      <td>BANDEIRA BRANCA</td>\n",
       "      <td>2023-10-18</td>\n",
       "      <td>sim</td>\n",
       "      <td>1</td>\n",
       "    </tr>\n",
       "    <tr>\n",
       "      <th>44017</th>\n",
       "      <td>1296045</td>\n",
       "      <td>PR/MT0243973</td>\n",
       "      <td>2023-10-05</td>\n",
       "      <td>POSTO ESTRELA DA CHAPADA LTDA</td>\n",
       "      <td>48248038000104</td>\n",
       "      <td>RODOVIA EMANUEL PINHEIRO,  15</td>\n",
       "      <td>QUADRA12                  LOTE  01-04</td>\n",
       "      <td>JARDIM FLORIANOPOLIS</td>\n",
       "      <td>78055799</td>\n",
       "      <td>MT</td>\n",
       "      <td>CUIABA</td>\n",
       "      <td>IPIRANGA</td>\n",
       "      <td>2023-10-05</td>\n",
       "      <td>não</td>\n",
       "      <td>0</td>\n",
       "    </tr>\n",
       "  </tbody>\n",
       "</table>\n",
       "<p>44018 rows × 15 columns</p>\n",
       "</div>"
      ],
      "text/plain": [
       "       CODIGOISIMP   AUTORIZACAO DATAPUBLICACAO  \\\n",
       "0          1022007  PR/SP0019777     2002-01-23   \n",
       "1          1227493  PR/PI0177467     2016-09-28   \n",
       "2          1000022  PR/SP0021686     2002-02-28   \n",
       "3          1175475  AV/SP0088382     2011-07-12   \n",
       "4          1226945  PR/RS0177246     2016-09-14   \n",
       "...            ...           ...            ...   \n",
       "44013      1296304  PR/MG0244049     2023-10-18   \n",
       "44014      1296307  PR/GO0244057     2023-10-18   \n",
       "44015      1296297  PR/SP0244060     2023-10-18   \n",
       "44016      1296308  PR/BA0244073     2023-10-18   \n",
       "44017      1296045  PR/MT0243973     2023-10-05   \n",
       "\n",
       "                                             RAZAOSOCIAL            CNPJ  \\\n",
       "0                               AUTO POSTO SAKAMOTO LTDA  49051667000102   \n",
       "1                                     POSTO RAMALEY LTDA  19052407000190   \n",
       "2      COMPETRO COMERCIO E DISTRIBUICAO DE DERIVADOS ...      3188000474   \n",
       "3      M & J COMÃ‰RCIO DE COMBUSTÃVEIS E LUBRIFICANT...   5678449000127   \n",
       "4            METROPOLITANO COMERCIO DE COMBUSTIVEIS LTDA  88587589000621   \n",
       "...                                                  ...             ...   \n",
       "44013           POSTO FIRME NOSSA SENHORA APARECIDA LTDA  50508806000163   \n",
       "44014                   AURILENE DOS SANTOS PEREIRA LTDA  42656379000132   \n",
       "44015                           AUTO POSTO 3 IRMAOS LTDA  51881887000105   \n",
       "44016      LAGOA DO GUEDES COMERCIO DE COMBUSTIVEIS LTDA  48049179000106   \n",
       "44017                      POSTO ESTRELA DA CHAPADA LTDA  48248038000104   \n",
       "\n",
       "                               ENDERECO  \\\n",
       "0        RODOVIA PRESIDENTE DUTRA,  S/N   \n",
       "1                   R SAO NICOLAU,  940   \n",
       "2           AVENIDA SANTOS DUMONT,  701   \n",
       "3          AVENIDA EMILIO ANTONON,  S/N   \n",
       "4                  RUA BOQUEIRAO,  1401   \n",
       "...                                 ...   \n",
       "44013            PRACA JOSE MACIEL,  39   \n",
       "44014                  AVENIDA 02,  S/N   \n",
       "44015     RUA FREI MANOEL BRAGDIA,  506   \n",
       "44016  COMUNIDADE LAGOA DO GUEDES,  S/N   \n",
       "44017     RODOVIA EMANUEL PINHEIRO,  15   \n",
       "\n",
       "                                 COMPLEMENTO                BAIRRO       CEP  \\\n",
       "0                        KM 210,5-SENT SP/RJ            BONSUCESSO   7178580   \n",
       "1                                        NaN                CENTRO  64315000   \n",
       "2                                        NaN             AEROPORTO  18065290   \n",
       "3                                        NaN     CHACARA AEROPORTO  13212010   \n",
       "4                                        NaN                 IGARA  92410350   \n",
       "...                                      ...                   ...       ...   \n",
       "44013                                    NaN                CENTRO  36568000   \n",
       "44014   QUADRA108                 LOTE  34 A     PARQUE ALVORADA I  72836200   \n",
       "44015                                    NaN                CENTRO  19960029   \n",
       "44016          MARGEM DA ROD BA 220KM    128            ZONA RURAL  48500000   \n",
       "44017  QUADRA12                  LOTE  01-04  JARDIM FLORIANOPOLIS  78055799   \n",
       "\n",
       "       UF                MUNICIPIO         BANDEIRA DATAVINCULACAO  \\\n",
       "0      SP                GUARULHOS            VIBRA     2002-01-23   \n",
       "1      PI  SANTA CRUZ DOS MILAGRES  BANDEIRA BRANCA     2016-09-28   \n",
       "2      SP                 SOROCABA  BANDEIRA BRANCA     2018-07-27   \n",
       "3      SP                  JUNDIAI           RAIZEN     2011-07-12   \n",
       "4      RS                   CANOAS  BANDEIRA BRANCA     2016-09-14   \n",
       "...    ..                      ...              ...            ...   \n",
       "44013  MG              PORTO FIRME           ALESAT     2023-10-18   \n",
       "44014  GO                 LUZIANIA  BANDEIRA BRANCA     2023-10-18   \n",
       "44015  SP    CAMPOS NOVOS PAULISTA  BANDEIRA BRANCA     2023-10-18   \n",
       "44016  BA        EUCLIDES DA CUNHA  BANDEIRA BRANCA     2023-10-18   \n",
       "44017  MT                   CUIABA         IPIRANGA     2023-10-05   \n",
       "\n",
       "      BANDEIRA_BRANCA  BANDEIRA_BRANCA_NUM  \n",
       "0                 não                    0  \n",
       "1                 sim                    1  \n",
       "2                 sim                    1  \n",
       "3                 não                    0  \n",
       "4                 sim                    1  \n",
       "...               ...                  ...  \n",
       "44013             não                    0  \n",
       "44014             sim                    1  \n",
       "44015             sim                    1  \n",
       "44016             sim                    1  \n",
       "44017             não                    0  \n",
       "\n",
       "[44018 rows x 15 columns]"
      ]
     },
     "execution_count": 10,
     "metadata": {},
     "output_type": "execute_result"
    }
   ],
   "source": [
    "df"
   ]
  },
  {
   "cell_type": "code",
   "execution_count": 11,
   "id": "d7005480-740b-4e5f-805e-25f00c2eb82b",
   "metadata": {},
   "outputs": [
    {
     "name": "stdout",
     "output_type": "stream",
     "text": [
      "44018\n"
     ]
    }
   ],
   "source": [
    "total_postos = df.shape[0]\n",
    "print(total_postos)"
   ]
  },
  {
   "cell_type": "code",
   "execution_count": 13,
   "id": "a24393b1-0ad7-4896-85da-e6172a015616",
   "metadata": {},
   "outputs": [
    {
     "data": {
      "text/html": [
       "<div>\n",
       "<style scoped>\n",
       "    .dataframe tbody tr th:only-of-type {\n",
       "        vertical-align: middle;\n",
       "    }\n",
       "\n",
       "    .dataframe tbody tr th {\n",
       "        vertical-align: top;\n",
       "    }\n",
       "\n",
       "    .dataframe thead th {\n",
       "        text-align: right;\n",
       "    }\n",
       "</style>\n",
       "<table border=\"1\" class=\"dataframe\">\n",
       "  <thead>\n",
       "    <tr style=\"text-align: right;\">\n",
       "      <th></th>\n",
       "      <th>CNPJ</th>\n",
       "      <th>BANDEIRA_BRANCA</th>\n",
       "    </tr>\n",
       "  </thead>\n",
       "  <tbody>\n",
       "    <tr>\n",
       "      <th>0</th>\n",
       "      <td>49051667000102</td>\n",
       "      <td>não</td>\n",
       "    </tr>\n",
       "    <tr>\n",
       "      <th>1</th>\n",
       "      <td>19052407000190</td>\n",
       "      <td>sim</td>\n",
       "    </tr>\n",
       "    <tr>\n",
       "      <th>2</th>\n",
       "      <td>3188000474</td>\n",
       "      <td>sim</td>\n",
       "    </tr>\n",
       "    <tr>\n",
       "      <th>3</th>\n",
       "      <td>5678449000127</td>\n",
       "      <td>não</td>\n",
       "    </tr>\n",
       "    <tr>\n",
       "      <th>4</th>\n",
       "      <td>88587589000621</td>\n",
       "      <td>sim</td>\n",
       "    </tr>\n",
       "  </tbody>\n",
       "</table>\n",
       "</div>"
      ],
      "text/plain": [
       "             CNPJ BANDEIRA_BRANCA\n",
       "0  49051667000102             não\n",
       "1  19052407000190             sim\n",
       "2      3188000474             sim\n",
       "3   5678449000127             não\n",
       "4  88587589000621             sim"
      ]
     },
     "execution_count": 13,
     "metadata": {},
     "output_type": "execute_result"
    }
   ],
   "source": [
    "# Criando um dataframe apenas com os dados relevantes para a análise\n",
    "df_postos = df[['CNPJ', 'BANDEIRA_BRANCA']]\n",
    "df_postos.head()"
   ]
  },
  {
   "cell_type": "code",
   "execution_count": 14,
   "id": "71288219-ba30-4db8-9a4c-f1bf96ff6172",
   "metadata": {},
   "outputs": [
    {
     "name": "stdout",
     "output_type": "stream",
     "text": [
      "20765\n"
     ]
    }
   ],
   "source": [
    "# Quantidade de postos com Bandeira Branca\n",
    "contagem_bandeira_branca = df['BANDEIRA_BRANCA'].value_counts().get('sim', 0)\n",
    "print(contagem_bandeira_branca)"
   ]
  },
  {
   "cell_type": "code",
   "execution_count": 15,
   "id": "dd601bdf-67a6-4550-a94b-5b1a46247b02",
   "metadata": {},
   "outputs": [
    {
     "name": "stdout",
     "output_type": "stream",
     "text": [
      "23253\n"
     ]
    }
   ],
   "source": [
    "# Quantidade de postos com Bandeira  Branca\n",
    "contagem_embandeirados = df['BANDEIRA_BRANCA'].value_counts().get('não', 0)\n",
    "print(contagem_embandeirados)"
   ]
  },
  {
   "cell_type": "markdown",
   "id": "17d45bc1-31d7-4a3a-a6ca-619b5c3ae706",
   "metadata": {},
   "source": [
    "- São 44.018 postos cadastrados no registro da ANP\n",
    "- Destes, 20.765 são postos com Bandeira Branca.\n",
    "- Naturalmente, temos 23.253 postos embandeirados"
   ]
  },
  {
   "cell_type": "code",
   "execution_count": 17,
   "id": "02e3a882-6809-4cea-8b5e-359f34804267",
   "metadata": {},
   "outputs": [
    {
     "name": "stdout",
     "output_type": "stream",
     "text": [
      "47.17\n"
     ]
    }
   ],
   "source": [
    "# Calculando a dimensão de postos bandeira branca em termos percentuais\n",
    "porcentagem_bandeira_branca = (contagem_bandeira_branca / total_postos) * 100\n",
    "porcentagem_bandeira_branca = round(porcentagem_bandeira_branca, 2)\n",
    "print(porcentagem_bandeira_branca)"
   ]
  },
  {
   "cell_type": "markdown",
   "id": "b8384aa6-9164-4ee9-bea1-67e635f9c4ad",
   "metadata": {},
   "source": [
    "**Podemos verificar que os postos bandeira branca representam 47.17% da totalidade de postos**"
   ]
  },
  {
   "cell_type": "code",
   "execution_count": 16,
   "id": "f31f2c34-d48d-4aab-9ffd-446be95edd74",
   "metadata": {},
   "outputs": [
    {
     "name": "stdout",
     "output_type": "stream",
     "text": [
      "52.83\n"
     ]
    }
   ],
   "source": [
    "porcentagem_embandeirados = (contagem_embandeirados / total_postos) * 100\n",
    "porcentagem_embandeirados = round(porcentagem_embandeirados, 2)\n",
    "print(porcentagem_embandeirados)"
   ]
  },
  {
   "cell_type": "markdown",
   "id": "c8b81135-5219-406f-86a7-6ddbe57cc307",
   "metadata": {},
   "source": [
    "**Podemos verificar que os postos embandeirados representam 52.83% da totalidade de postos**"
   ]
  },
  {
   "cell_type": "code",
   "execution_count": 120,
   "id": "4da11962-fe0e-4a9d-9a36-f4f40c864965",
   "metadata": {},
   "outputs": [
    {
     "name": "stdout",
     "output_type": "stream",
     "text": [
      "Se temos 20765 postos com bandeira branca\n",
      "e 23253 postos embandeirados.\n",
      "Tem-se uma proporção entre postos de bandeira branca e embandeirados de 89.3%\n"
     ]
    }
   ],
   "source": [
    "# calculando a proporção de postos bandeira branca em relação aos postos embandeirados\n",
    "\n",
    "print(f\"Se temos {contagem_bandeira_branca} postos com bandeira branca\")\n",
    "print(f\"e {contagem_embandeirados} postos embandeirados.\")\n",
    "\n",
    "proporcao_bandeira_branca = round(contagem_bandeira_branca / contagem_embandeirados *100, 2)\n",
    "print(f\"Tem-se uma proporção entre postos de bandeira branca e embandeirados de {proporcao_bandeira_branca}%\")"
   ]
  },
  {
   "cell_type": "markdown",
   "id": "83958abf-0790-4c37-9638-b1c4ebe8d24b",
   "metadata": {},
   "source": [
    "É uma medida que indica quantos postos \"Bandeira Branca\" existem para cada posto \"Embandeirado\" no conjunto de dados"
   ]
  },
  {
   "cell_type": "markdown",
   "id": "9bcdb055-3c98-4d5d-a12a-ed79aed67002",
   "metadata": {},
   "source": [
    "A proporção calculada, 0.893 (ou 89.3%), indica que a proporção de postos \"Bandeira Branca\" em relação aos \"Embandeirados\" é de aproximadamente 0.893 (ou 89.3%).\n",
    "\n",
    "Isso significa que há 89.3% mais postos \"Embandeirados\" do que \"Bandeira Branca\".\n",
    "Portanto, a maioria dos postos no conjunto de dados são classificados como \"Embandeirados\". \n"
   ]
  },
  {
   "cell_type": "code",
   "execution_count": 29,
   "id": "ff260cc7-61b1-4731-b034-8c81b4e27f97",
   "metadata": {},
   "outputs": [
    {
     "name": "stdout",
     "output_type": "stream",
     "text": [
      "1.1198169997592102\n"
     ]
    }
   ],
   "source": [
    "# Assim, invertendo a relação de proporção\n",
    "proporcao_embandeirados = contagem_embandeirados / contagem_bandeira_branca\n",
    "print(proporcao_embandeirados)"
   ]
  },
  {
   "cell_type": "markdown",
   "id": "b8e1e3cc-ccf7-4a22-aab9-cd81c36c996f",
   "metadata": {},
   "source": [
    "Significa que há aproximadamente 1.12 vezes mais postos \"Embandeirados\" do que postos \"Bandeira Branca\". \n",
    "\n",
    "Indicando que os postos \"Embandeirados\" são ligeiramente mais comuns em relação aos postos \"Bandeira Branca\" no conjunto de dados."
   ]
  },
  {
   "cell_type": "markdown",
   "id": "37f2bbda-9147-4c22-8126-427aaf37c7e3",
   "metadata": {},
   "source": [
    "O valor da razão indica a relação de prevalência entre os dois tipos de postos.\n",
    "\n",
    "Significa dizer que a cada 10 postos analisados, teríamos aproximadamente:\n",
    "\n",
    "**4 postos seriam \"Bandeira Branca\" e os outros 6 seriam \"Embandeirados\".**\n",
    "\n",
    "e que a cada 100 postos analisados, teríamos aproximadamente:\n",
    "\n",
    "**47 postos seriam \"Bandeira Branca\" e os outros 53 seriam \"Embandeirados\".**"
   ]
  },
  {
   "cell_type": "markdown",
   "id": "30382ec9-b94b-4cd4-afa5-caf63ad0d81f",
   "metadata": {},
   "source": [
    "##  Conclusão Seção 1\n",
    "\n",
    "Ainda que aparentemente diminuta, essa desproporção entre postos embandeirados e postos de bandeira branca deve ser considerada ao analisar as frequências de fiscalizações."
   ]
  },
  {
   "cell_type": "markdown",
   "id": "074eb69c-f67e-4ec6-a8e3-671dedc626f8",
   "metadata": {},
   "source": [
    "# Seção 2"
   ]
  },
  {
   "cell_type": "markdown",
   "id": "04a0fe08-d81d-43c6-ab60-7919fc2d35b6",
   "metadata": {},
   "source": [
    "**Objetivo**: Quantificar a relação de fiscalizações da ANP sob a ótica das bandeiras de postos.\n",
    "\n",
    "**Descrição**: Para continuar a análise, buscamos dados da ANP que apresentem a lista de fiscalizações realizadas pela agência. Será necessário filtrar os dados e cruza-los com os dados vistos na seção 1 para que possamos atribuir a cada instância da tabela o rótulo de bandeira branca ou embandeirado. Somente assim, poderemos analisar as fiscalizações e se elas ocorrem em maior número em postos de Bandeira Branca ou Embandeirados."
   ]
  },
  {
   "cell_type": "code",
   "execution_count": 52,
   "id": "a2089d1c-e084-4650-b935-0f3f0e1487b1",
   "metadata": {},
   "outputs": [],
   "source": [
    "# lendo dados de fiscalizações realizadas\n",
    "df_fiscalizacoes = pd.read_excel('dados_brutos.xlsx', engine=\"openpyxl\")"
   ]
  },
  {
   "cell_type": "code",
   "execution_count": 53,
   "id": "1e2bf12f-c879-4cb8-8234-551cca4f3a30",
   "metadata": {},
   "outputs": [
    {
     "data": {
      "text/html": [
       "<div>\n",
       "<style scoped>\n",
       "    .dataframe tbody tr th:only-of-type {\n",
       "        vertical-align: middle;\n",
       "    }\n",
       "\n",
       "    .dataframe tbody tr th {\n",
       "        vertical-align: top;\n",
       "    }\n",
       "\n",
       "    .dataframe thead th {\n",
       "        text-align: right;\n",
       "    }\n",
       "</style>\n",
       "<table border=\"1\" class=\"dataframe\">\n",
       "  <thead>\n",
       "    <tr style=\"text-align: right;\">\n",
       "      <th></th>\n",
       "      <th>UF</th>\n",
       "      <th>Município</th>\n",
       "      <th>Bairro</th>\n",
       "      <th>Endereço</th>\n",
       "      <th>CNPJ/CPF</th>\n",
       "      <th>Agente Econômico</th>\n",
       "      <th>Codigo_Componente</th>\n",
       "      <th>Segmento Fiscalizado</th>\n",
       "      <th>Data DF</th>\n",
       "      <th>Número do Documento</th>\n",
       "      <th>Procedimento de Fiscalização</th>\n",
       "      <th>Resultado</th>\n",
       "    </tr>\n",
       "  </thead>\n",
       "  <tbody>\n",
       "    <tr>\n",
       "      <th>0</th>\n",
       "      <td>AC</td>\n",
       "      <td>ACRELANDIA</td>\n",
       "      <td>ZONA RURAL</td>\n",
       "      <td>RODOVIA BR 364 KM 96, M. DIREITA SENTIDO RIO B...</td>\n",
       "      <td>7481893000183</td>\n",
       "      <td>AUTO POSTO CAMARINI EIRELI</td>\n",
       "      <td>1.0</td>\n",
       "      <td>Revenda de Combustíveis</td>\n",
       "      <td>2020-07-08</td>\n",
       "      <td>575385</td>\n",
       "      <td>Boletim de Fiscalização</td>\n",
       "      <td>Ação de fiscalização em campo</td>\n",
       "    </tr>\n",
       "    <tr>\n",
       "      <th>1</th>\n",
       "      <td>AC</td>\n",
       "      <td>ACRELANDIA</td>\n",
       "      <td>ZONA RURAL</td>\n",
       "      <td>RODOVIA BR 364 KM 96, M. DIREITA SENTIDO RIO B...</td>\n",
       "      <td>7481893000183</td>\n",
       "      <td>AUTO POSTO CAMARINI EIRELI</td>\n",
       "      <td>9.0</td>\n",
       "      <td>Revenda de Combustíveis</td>\n",
       "      <td>2020-07-08</td>\n",
       "      <td>575385</td>\n",
       "      <td>Medida Reparadora de Conduta</td>\n",
       "      <td>MRC - PR Comb - Afixação de aviso sobre o Óleo...</td>\n",
       "    </tr>\n",
       "    <tr>\n",
       "      <th>2</th>\n",
       "      <td>AC</td>\n",
       "      <td>ACRELANDIA</td>\n",
       "      <td>ZONA RURAL</td>\n",
       "      <td>RODOVIA BR 364 KM 96, M. DIREITA SENTIDO RIO B...</td>\n",
       "      <td>7481893000183</td>\n",
       "      <td>AUTO POSTO CAMARINI EIRELI</td>\n",
       "      <td>1.0</td>\n",
       "      <td>Revenda de Combustíveis</td>\n",
       "      <td>2020-07-08</td>\n",
       "      <td>575385</td>\n",
       "      <td>Boletim de Fiscalização</td>\n",
       "      <td>Ação de Fiscalização - Outras Situações</td>\n",
       "    </tr>\n",
       "    <tr>\n",
       "      <th>3</th>\n",
       "      <td>AC</td>\n",
       "      <td>ACRELANDIA</td>\n",
       "      <td>ZONA RURAL</td>\n",
       "      <td>RODOVIA BR 364 KM 96, M. DIREITA SENTIDO RIO B...</td>\n",
       "      <td>7481893000183</td>\n",
       "      <td>AUTO POSTO CAMARINI EIRELI</td>\n",
       "      <td>1.0</td>\n",
       "      <td>Revenda de Combustíveis</td>\n",
       "      <td>2020-07-08</td>\n",
       "      <td>575385</td>\n",
       "      <td>Boletim de Fiscalização</td>\n",
       "      <td>ATIV ECON - Revenda de Combustíveis</td>\n",
       "    </tr>\n",
       "    <tr>\n",
       "      <th>4</th>\n",
       "      <td>AC</td>\n",
       "      <td>ACRELANDIA</td>\n",
       "      <td>ZONA RURAL</td>\n",
       "      <td>RODOVIA BR 364 KM 96, M. DIREITA SENTIDO RIO B...</td>\n",
       "      <td>7481893000183</td>\n",
       "      <td>AUTO POSTO CAMARINI EIRELI</td>\n",
       "      <td>9.0</td>\n",
       "      <td>Revenda de Combustíveis</td>\n",
       "      <td>2020-07-08</td>\n",
       "      <td>575385</td>\n",
       "      <td>Medida Reparadora de Conduta</td>\n",
       "      <td>MRC - PR Comb - Preços de combustíveis com 03 ...</td>\n",
       "    </tr>\n",
       "  </tbody>\n",
       "</table>\n",
       "</div>"
      ],
      "text/plain": [
       "   UF   Município      Bairro  \\\n",
       "0  AC  ACRELANDIA  ZONA RURAL   \n",
       "1  AC  ACRELANDIA  ZONA RURAL   \n",
       "2  AC  ACRELANDIA  ZONA RURAL   \n",
       "3  AC  ACRELANDIA  ZONA RURAL   \n",
       "4  AC  ACRELANDIA  ZONA RURAL   \n",
       "\n",
       "                                            Endereço       CNPJ/CPF  \\\n",
       "0  RODOVIA BR 364 KM 96, M. DIREITA SENTIDO RIO B...  7481893000183   \n",
       "1  RODOVIA BR 364 KM 96, M. DIREITA SENTIDO RIO B...  7481893000183   \n",
       "2  RODOVIA BR 364 KM 96, M. DIREITA SENTIDO RIO B...  7481893000183   \n",
       "3  RODOVIA BR 364 KM 96, M. DIREITA SENTIDO RIO B...  7481893000183   \n",
       "4  RODOVIA BR 364 KM 96, M. DIREITA SENTIDO RIO B...  7481893000183   \n",
       "\n",
       "             Agente Econômico  Codigo_Componente     Segmento Fiscalizado  \\\n",
       "0  AUTO POSTO CAMARINI EIRELI                1.0  Revenda de Combustíveis   \n",
       "1  AUTO POSTO CAMARINI EIRELI                9.0  Revenda de Combustíveis   \n",
       "2  AUTO POSTO CAMARINI EIRELI                1.0  Revenda de Combustíveis   \n",
       "3  AUTO POSTO CAMARINI EIRELI                1.0  Revenda de Combustíveis   \n",
       "4  AUTO POSTO CAMARINI EIRELI                9.0  Revenda de Combustíveis   \n",
       "\n",
       "     Data DF  Número do Documento  Procedimento de Fiscalização  \\\n",
       "0 2020-07-08               575385       Boletim de Fiscalização   \n",
       "1 2020-07-08               575385  Medida Reparadora de Conduta   \n",
       "2 2020-07-08               575385       Boletim de Fiscalização   \n",
       "3 2020-07-08               575385       Boletim de Fiscalização   \n",
       "4 2020-07-08               575385  Medida Reparadora de Conduta   \n",
       "\n",
       "                                           Resultado  \n",
       "0                      Ação de fiscalização em campo  \n",
       "1  MRC - PR Comb - Afixação de aviso sobre o Óleo...  \n",
       "2            Ação de Fiscalização - Outras Situações  \n",
       "3                ATIV ECON - Revenda de Combustíveis  \n",
       "4  MRC - PR Comb - Preços de combustíveis com 03 ...  "
      ]
     },
     "execution_count": 53,
     "metadata": {},
     "output_type": "execute_result"
    }
   ],
   "source": [
    "# visualizando dados\n",
    "df_fiscalizacoes.head()"
   ]
  },
  {
   "cell_type": "code",
   "execution_count": 60,
   "id": "bc5b05a9-892d-41b9-a4c3-0f0dc18a203b",
   "metadata": {},
   "outputs": [
    {
     "name": "stdout",
     "output_type": "stream",
     "text": [
      "Total de fiscalizações realizadas: 395945\n"
     ]
    }
   ],
   "source": [
    "# contabilizando a quantidade de fiscalizações realizadas pela a ANP\n",
    "print(f\"Total de fiscalizações realizadas: {df_fiscalizacoes.shape[0]}\")"
   ]
  },
  {
   "cell_type": "markdown",
   "id": "286caad4-0a15-44bb-9424-a9774054e6ee",
   "metadata": {},
   "source": [
    "Como podemos quantificar, foram realizadas 395.945 fiscalizações da ANP. Entretanto, nos interessam apenas os dados referentes a fiscalizações realizadas no segmento de revenda e, sobretudo, dos postos dos quais temos a informação sobre o tipo de bandeira. "
   ]
  },
  {
   "cell_type": "code",
   "execution_count": 74,
   "id": "881a5cf4-f968-481f-a7be-649f10ebbb31",
   "metadata": {},
   "outputs": [
    {
     "name": "stdout",
     "output_type": "stream",
     "text": [
      "Segmentos de fiscalização: \n"
     ]
    },
    {
     "data": {
      "text/plain": [
       "['Revenda de Combustíveis',\n",
       " 'Revenda de GLP',\n",
       " 'Distribuidor de Combustíveis Líquidos',\n",
       " 'Revenda de Aviação',\n",
       " 'Distribuidor de Aviação',\n",
       " 'Agente Não Regulado',\n",
       " 'TRRNI',\n",
       " 'Ponto de Abastecimento',\n",
       " 'TRR',\n",
       " nan,\n",
       " 'Produtor de Óleo Acabado',\n",
       " 'Refinaria',\n",
       " 'Terminal',\n",
       " 'Consumidor Industrial de Solventes',\n",
       " 'Distribuidor de GLP']"
      ]
     },
     "execution_count": 74,
     "metadata": {},
     "output_type": "execute_result"
    }
   ],
   "source": [
    "print(\"Segmentos de fiscalização: \")\n",
    "df_fiscalizacoes['Segmento Fiscalizado'].unique().tolist()"
   ]
  },
  {
   "cell_type": "code",
   "execution_count": 77,
   "id": "14f89150-5195-4a58-916d-1adccf257e53",
   "metadata": {},
   "outputs": [
    {
     "name": "stdout",
     "output_type": "stream",
     "text": [
      "Fiscalizações no segmento de revenda: 195113\n",
      "Percentual de fiscalizações no segmento de revendas em relação ao total de fiscalizações: 79.24%\n"
     ]
    }
   ],
   "source": [
    "df_fiscalizacoes = df_fiscalizacoes[df_fiscalizacoes[\"Segmento Fiscalizado\"] == \"Revenda de Combustíveis\"]\n",
    "print(f\"Fiscalizações no segmento de revenda: {df_revenda.shape[0]}\")\n",
    "print(f\"Percentual de fiscalizações no segmento de revendas em relação ao total de fiscalizações: {round(df_revenda.shape[0]/df_fiscalizacoes.shape[0] *100, 2)}%\")"
   ]
  },
  {
   "cell_type": "markdown",
   "id": "bdb0dd65-cc75-4824-b21d-48867868b07e",
   "metadata": {},
   "source": [
    "Filtrando os dados de fiscalizações para obtermos apenas os dados com revenda de combustíveis, podemos perceber que este é justamente o segmento mais fiscalizado."
   ]
  },
  {
   "cell_type": "markdown",
   "id": "c72e2f15-e77e-493d-a1f6-e4437c8db6fa",
   "metadata": {},
   "source": [
    "Ademais, nossa análise possui enfoque apenas nos procedimentos de fiscalização que gerem boletim de Fiscalização"
   ]
  },
  {
   "cell_type": "code",
   "execution_count": 78,
   "id": "fa0b9143-64aa-4fd8-a8bd-c16f8c514c82",
   "metadata": {},
   "outputs": [
    {
     "name": "stdout",
     "output_type": "stream",
     "text": [
      "Tipos de Procedimentos de Fiscalização: \n"
     ]
    },
    {
     "data": {
      "text/plain": [
       "['Boletim de Fiscalização',\n",
       " 'Medida Reparadora de Conduta',\n",
       " 'Notificação',\n",
       " 'Auto de Infração',\n",
       " 'Termo de Coleta de Amostra',\n",
       " 'Certidão',\n",
       " 'Auto de Interdição',\n",
       " 'Termo Final de Medida Cautelar',\n",
       " 'Ato de Término de Suspensão',\n",
       " 'Auto de Apreensão',\n",
       " 'Termo Fiel Depositário',\n",
       " 'Ato de Início de Suspensão']"
      ]
     },
     "execution_count": 78,
     "metadata": {},
     "output_type": "execute_result"
    }
   ],
   "source": [
    "print(\"Tipos de Procedimentos de Fiscalização: \")\n",
    "df_fiscalizacoes['Procedimento de Fiscalização'].unique().tolist()"
   ]
  },
  {
   "cell_type": "code",
   "execution_count": 80,
   "id": "2155e1d7-231e-4246-ac0e-2ece832d5963",
   "metadata": {},
   "outputs": [
    {
     "data": {
      "text/html": [
       "<div>\n",
       "<style scoped>\n",
       "    .dataframe tbody tr th:only-of-type {\n",
       "        vertical-align: middle;\n",
       "    }\n",
       "\n",
       "    .dataframe tbody tr th {\n",
       "        vertical-align: top;\n",
       "    }\n",
       "\n",
       "    .dataframe thead th {\n",
       "        text-align: right;\n",
       "    }\n",
       "</style>\n",
       "<table border=\"1\" class=\"dataframe\">\n",
       "  <thead>\n",
       "    <tr style=\"text-align: right;\">\n",
       "      <th></th>\n",
       "      <th>UF</th>\n",
       "      <th>Município</th>\n",
       "      <th>Bairro</th>\n",
       "      <th>Endereço</th>\n",
       "      <th>CNPJ/CPF</th>\n",
       "      <th>Agente Econômico</th>\n",
       "      <th>Codigo_Componente</th>\n",
       "      <th>Segmento Fiscalizado</th>\n",
       "      <th>Data DF</th>\n",
       "      <th>Número do Documento</th>\n",
       "      <th>Procedimento de Fiscalização</th>\n",
       "      <th>Resultado</th>\n",
       "    </tr>\n",
       "  </thead>\n",
       "  <tbody>\n",
       "    <tr>\n",
       "      <th>0</th>\n",
       "      <td>AC</td>\n",
       "      <td>ACRELANDIA</td>\n",
       "      <td>ZONA RURAL</td>\n",
       "      <td>RODOVIA BR 364 KM 96, M. DIREITA SENTIDO RIO B...</td>\n",
       "      <td>7481893000183</td>\n",
       "      <td>AUTO POSTO CAMARINI EIRELI</td>\n",
       "      <td>1.0</td>\n",
       "      <td>Revenda de Combustíveis</td>\n",
       "      <td>2020-07-08</td>\n",
       "      <td>575385</td>\n",
       "      <td>Boletim de Fiscalização</td>\n",
       "      <td>Ação de fiscalização em campo</td>\n",
       "    </tr>\n",
       "    <tr>\n",
       "      <th>2</th>\n",
       "      <td>AC</td>\n",
       "      <td>ACRELANDIA</td>\n",
       "      <td>ZONA RURAL</td>\n",
       "      <td>RODOVIA BR 364 KM 96, M. DIREITA SENTIDO RIO B...</td>\n",
       "      <td>7481893000183</td>\n",
       "      <td>AUTO POSTO CAMARINI EIRELI</td>\n",
       "      <td>1.0</td>\n",
       "      <td>Revenda de Combustíveis</td>\n",
       "      <td>2020-07-08</td>\n",
       "      <td>575385</td>\n",
       "      <td>Boletim de Fiscalização</td>\n",
       "      <td>Ação de Fiscalização - Outras Situações</td>\n",
       "    </tr>\n",
       "    <tr>\n",
       "      <th>3</th>\n",
       "      <td>AC</td>\n",
       "      <td>ACRELANDIA</td>\n",
       "      <td>ZONA RURAL</td>\n",
       "      <td>RODOVIA BR 364 KM 96, M. DIREITA SENTIDO RIO B...</td>\n",
       "      <td>7481893000183</td>\n",
       "      <td>AUTO POSTO CAMARINI EIRELI</td>\n",
       "      <td>1.0</td>\n",
       "      <td>Revenda de Combustíveis</td>\n",
       "      <td>2020-07-08</td>\n",
       "      <td>575385</td>\n",
       "      <td>Boletim de Fiscalização</td>\n",
       "      <td>ATIV ECON - Revenda de Combustíveis</td>\n",
       "    </tr>\n",
       "    <tr>\n",
       "      <th>5</th>\n",
       "      <td>AC</td>\n",
       "      <td>ACRELANDIA</td>\n",
       "      <td>ZONA RURAL</td>\n",
       "      <td>RODOVIA BR 364 KM 96, M. DIREITA SENTIDO RIO B...</td>\n",
       "      <td>7481893000183</td>\n",
       "      <td>AUTO POSTO CAMARINI EIRELI</td>\n",
       "      <td>1.0</td>\n",
       "      <td>Revenda de Combustíveis</td>\n",
       "      <td>2020-07-08</td>\n",
       "      <td>575385</td>\n",
       "      <td>Boletim de Fiscalização</td>\n",
       "      <td>Ação de fiscalização conjunta com outros órgão...</td>\n",
       "    </tr>\n",
       "    <tr>\n",
       "      <th>6</th>\n",
       "      <td>AC</td>\n",
       "      <td>ACRELANDIA</td>\n",
       "      <td>ZONA RURAL</td>\n",
       "      <td>RODOVIA BR 364 KM 96, M. DIREITA SENTIDO RIO B...</td>\n",
       "      <td>7481893000183</td>\n",
       "      <td>AUTO POSTO CAMARINI EIRELI</td>\n",
       "      <td>1.0</td>\n",
       "      <td>Revenda de Combustíveis</td>\n",
       "      <td>2020-07-08</td>\n",
       "      <td>575385</td>\n",
       "      <td>Boletim de Fiscalização</td>\n",
       "      <td>Ação de fiscalização realizada em Força Tarefa</td>\n",
       "    </tr>\n",
       "  </tbody>\n",
       "</table>\n",
       "</div>"
      ],
      "text/plain": [
       "   UF   Município      Bairro  \\\n",
       "0  AC  ACRELANDIA  ZONA RURAL   \n",
       "2  AC  ACRELANDIA  ZONA RURAL   \n",
       "3  AC  ACRELANDIA  ZONA RURAL   \n",
       "5  AC  ACRELANDIA  ZONA RURAL   \n",
       "6  AC  ACRELANDIA  ZONA RURAL   \n",
       "\n",
       "                                            Endereço       CNPJ/CPF  \\\n",
       "0  RODOVIA BR 364 KM 96, M. DIREITA SENTIDO RIO B...  7481893000183   \n",
       "2  RODOVIA BR 364 KM 96, M. DIREITA SENTIDO RIO B...  7481893000183   \n",
       "3  RODOVIA BR 364 KM 96, M. DIREITA SENTIDO RIO B...  7481893000183   \n",
       "5  RODOVIA BR 364 KM 96, M. DIREITA SENTIDO RIO B...  7481893000183   \n",
       "6  RODOVIA BR 364 KM 96, M. DIREITA SENTIDO RIO B...  7481893000183   \n",
       "\n",
       "             Agente Econômico  Codigo_Componente     Segmento Fiscalizado  \\\n",
       "0  AUTO POSTO CAMARINI EIRELI                1.0  Revenda de Combustíveis   \n",
       "2  AUTO POSTO CAMARINI EIRELI                1.0  Revenda de Combustíveis   \n",
       "3  AUTO POSTO CAMARINI EIRELI                1.0  Revenda de Combustíveis   \n",
       "5  AUTO POSTO CAMARINI EIRELI                1.0  Revenda de Combustíveis   \n",
       "6  AUTO POSTO CAMARINI EIRELI                1.0  Revenda de Combustíveis   \n",
       "\n",
       "     Data DF  Número do Documento Procedimento de Fiscalização  \\\n",
       "0 2020-07-08               575385      Boletim de Fiscalização   \n",
       "2 2020-07-08               575385      Boletim de Fiscalização   \n",
       "3 2020-07-08               575385      Boletim de Fiscalização   \n",
       "5 2020-07-08               575385      Boletim de Fiscalização   \n",
       "6 2020-07-08               575385      Boletim de Fiscalização   \n",
       "\n",
       "                                           Resultado  \n",
       "0                      Ação de fiscalização em campo  \n",
       "2            Ação de Fiscalização - Outras Situações  \n",
       "3                ATIV ECON - Revenda de Combustíveis  \n",
       "5  Ação de fiscalização conjunta com outros órgão...  \n",
       "6     Ação de fiscalização realizada em Força Tarefa  "
      ]
     },
     "execution_count": 80,
     "metadata": {},
     "output_type": "execute_result"
    }
   ],
   "source": [
    "df_fiscalizacoes = df_fiscalizacoes[df_fiscalizacoes[\"Procedimento de Fiscalização\"] == \"Boletim de Fiscalização\"]\n",
    "df_fiscalizacoes.head()"
   ]
  },
  {
   "cell_type": "code",
   "execution_count": 81,
   "id": "78f5c396-b896-4672-bcfa-736e67c9f807",
   "metadata": {},
   "outputs": [
    {
     "data": {
      "text/plain": [
       "159800"
      ]
     },
     "execution_count": 81,
     "metadata": {},
     "output_type": "execute_result"
    }
   ],
   "source": [
    "df_fiscalizacoes.shape[0]"
   ]
  },
  {
   "cell_type": "markdown",
   "id": "89227640-45c0-4aba-ab73-e6a156be3e81",
   "metadata": {},
   "source": [
    "Assim, temos 159.800 boletins de fiscalização no segmento de revenda de Combustíveis"
   ]
  },
  {
   "cell_type": "code",
   "execution_count": 83,
   "id": "1ad1c65c-7e7a-465c-bb34-e67cfc03eb0e",
   "metadata": {},
   "outputs": [
    {
     "data": {
      "text/html": [
       "<div>\n",
       "<style scoped>\n",
       "    .dataframe tbody tr th:only-of-type {\n",
       "        vertical-align: middle;\n",
       "    }\n",
       "\n",
       "    .dataframe tbody tr th {\n",
       "        vertical-align: top;\n",
       "    }\n",
       "\n",
       "    .dataframe thead th {\n",
       "        text-align: right;\n",
       "    }\n",
       "</style>\n",
       "<table border=\"1\" class=\"dataframe\">\n",
       "  <thead>\n",
       "    <tr style=\"text-align: right;\">\n",
       "      <th></th>\n",
       "      <th>UF</th>\n",
       "      <th>Município</th>\n",
       "      <th>Bairro</th>\n",
       "      <th>Endereço</th>\n",
       "      <th>CNPJ/CPF</th>\n",
       "      <th>Agente Econômico</th>\n",
       "      <th>Codigo_Componente</th>\n",
       "      <th>Segmento Fiscalizado</th>\n",
       "      <th>Data DF</th>\n",
       "      <th>Número do Documento</th>\n",
       "      <th>Procedimento de Fiscalização</th>\n",
       "      <th>Resultado</th>\n",
       "    </tr>\n",
       "  </thead>\n",
       "  <tbody>\n",
       "    <tr>\n",
       "      <th>0</th>\n",
       "      <td>AC</td>\n",
       "      <td>ACRELANDIA</td>\n",
       "      <td>ZONA RURAL</td>\n",
       "      <td>RODOVIA BR 364 KM 96, M. DIREITA SENTIDO RIO B...</td>\n",
       "      <td>7481893000183</td>\n",
       "      <td>AUTO POSTO CAMARINI EIRELI</td>\n",
       "      <td>1.0</td>\n",
       "      <td>Revenda de Combustíveis</td>\n",
       "      <td>2020-07-08</td>\n",
       "      <td>575385</td>\n",
       "      <td>Boletim de Fiscalização</td>\n",
       "      <td>Ação de fiscalização em campo</td>\n",
       "    </tr>\n",
       "    <tr>\n",
       "      <th>2</th>\n",
       "      <td>AC</td>\n",
       "      <td>ACRELANDIA</td>\n",
       "      <td>ZONA RURAL</td>\n",
       "      <td>RODOVIA BR 364 KM 96, M. DIREITA SENTIDO RIO B...</td>\n",
       "      <td>7481893000183</td>\n",
       "      <td>AUTO POSTO CAMARINI EIRELI</td>\n",
       "      <td>1.0</td>\n",
       "      <td>Revenda de Combustíveis</td>\n",
       "      <td>2020-07-08</td>\n",
       "      <td>575385</td>\n",
       "      <td>Boletim de Fiscalização</td>\n",
       "      <td>Ação de Fiscalização - Outras Situações</td>\n",
       "    </tr>\n",
       "    <tr>\n",
       "      <th>3</th>\n",
       "      <td>AC</td>\n",
       "      <td>ACRELANDIA</td>\n",
       "      <td>ZONA RURAL</td>\n",
       "      <td>RODOVIA BR 364 KM 96, M. DIREITA SENTIDO RIO B...</td>\n",
       "      <td>7481893000183</td>\n",
       "      <td>AUTO POSTO CAMARINI EIRELI</td>\n",
       "      <td>1.0</td>\n",
       "      <td>Revenda de Combustíveis</td>\n",
       "      <td>2020-07-08</td>\n",
       "      <td>575385</td>\n",
       "      <td>Boletim de Fiscalização</td>\n",
       "      <td>ATIV ECON - Revenda de Combustíveis</td>\n",
       "    </tr>\n",
       "    <tr>\n",
       "      <th>5</th>\n",
       "      <td>AC</td>\n",
       "      <td>ACRELANDIA</td>\n",
       "      <td>ZONA RURAL</td>\n",
       "      <td>RODOVIA BR 364 KM 96, M. DIREITA SENTIDO RIO B...</td>\n",
       "      <td>7481893000183</td>\n",
       "      <td>AUTO POSTO CAMARINI EIRELI</td>\n",
       "      <td>1.0</td>\n",
       "      <td>Revenda de Combustíveis</td>\n",
       "      <td>2020-07-08</td>\n",
       "      <td>575385</td>\n",
       "      <td>Boletim de Fiscalização</td>\n",
       "      <td>Ação de fiscalização conjunta com outros órgão...</td>\n",
       "    </tr>\n",
       "    <tr>\n",
       "      <th>6</th>\n",
       "      <td>AC</td>\n",
       "      <td>ACRELANDIA</td>\n",
       "      <td>ZONA RURAL</td>\n",
       "      <td>RODOVIA BR 364 KM 96, M. DIREITA SENTIDO RIO B...</td>\n",
       "      <td>7481893000183</td>\n",
       "      <td>AUTO POSTO CAMARINI EIRELI</td>\n",
       "      <td>1.0</td>\n",
       "      <td>Revenda de Combustíveis</td>\n",
       "      <td>2020-07-08</td>\n",
       "      <td>575385</td>\n",
       "      <td>Boletim de Fiscalização</td>\n",
       "      <td>Ação de fiscalização realizada em Força Tarefa</td>\n",
       "    </tr>\n",
       "    <tr>\n",
       "      <th>...</th>\n",
       "      <td>...</td>\n",
       "      <td>...</td>\n",
       "      <td>...</td>\n",
       "      <td>...</td>\n",
       "      <td>...</td>\n",
       "      <td>...</td>\n",
       "      <td>...</td>\n",
       "      <td>...</td>\n",
       "      <td>...</td>\n",
       "      <td>...</td>\n",
       "      <td>...</td>\n",
       "      <td>...</td>\n",
       "    </tr>\n",
       "    <tr>\n",
       "      <th>395923</th>\n",
       "      <td>TO</td>\n",
       "      <td>WANDERLANDIA</td>\n",
       "      <td>Setor Central</td>\n",
       "      <td>AVENIDA   GOMES FERREIRA, sn</td>\n",
       "      <td>2280133005153</td>\n",
       "      <td>POSTO ICCAR LTDA</td>\n",
       "      <td>1.0</td>\n",
       "      <td>Revenda de Combustíveis</td>\n",
       "      <td>2019-10-31</td>\n",
       "      <td>558063</td>\n",
       "      <td>Boletim de Fiscalização</td>\n",
       "      <td>Ação de Fiscalização - Outras Situações</td>\n",
       "    </tr>\n",
       "    <tr>\n",
       "      <th>395924</th>\n",
       "      <td>TO</td>\n",
       "      <td>WANDERLANDIA</td>\n",
       "      <td>Setor Central</td>\n",
       "      <td>AVENIDA   GOMES FERREIRA, sn</td>\n",
       "      <td>2280133005153</td>\n",
       "      <td>POSTO ICCAR LTDA</td>\n",
       "      <td>1.0</td>\n",
       "      <td>Revenda de Combustíveis</td>\n",
       "      <td>2019-10-31</td>\n",
       "      <td>558063</td>\n",
       "      <td>Boletim de Fiscalização</td>\n",
       "      <td>Ação de fiscalização em campo</td>\n",
       "    </tr>\n",
       "    <tr>\n",
       "      <th>395926</th>\n",
       "      <td>TO</td>\n",
       "      <td>XAMBIOA</td>\n",
       "      <td>Centro</td>\n",
       "      <td>R Sete De Setembro C/ Rua Joao Saraiva Dos San...</td>\n",
       "      <td>24375589000170</td>\n",
       "      <td>Matos &amp; Navarro Ltda - ME</td>\n",
       "      <td>NaN</td>\n",
       "      <td>Revenda de Combustíveis</td>\n",
       "      <td>2018-05-17</td>\n",
       "      <td>533297</td>\n",
       "      <td>Boletim de Fiscalização</td>\n",
       "      <td>Ação de Fiscalização - Outras Situações</td>\n",
       "    </tr>\n",
       "    <tr>\n",
       "      <th>395933</th>\n",
       "      <td>TO</td>\n",
       "      <td>XAMBIOA</td>\n",
       "      <td>CENTRO</td>\n",
       "      <td>RUA ANTONIO MARANHÃO, 434</td>\n",
       "      <td>9429072000123</td>\n",
       "      <td>AUTO POSTO SANTA LUZIA LTDA</td>\n",
       "      <td>NaN</td>\n",
       "      <td>Revenda de Combustíveis</td>\n",
       "      <td>2018-05-17</td>\n",
       "      <td>533298</td>\n",
       "      <td>Boletim de Fiscalização</td>\n",
       "      <td>Ação de Fiscalização - Outras Situações</td>\n",
       "    </tr>\n",
       "    <tr>\n",
       "      <th>395942</th>\n",
       "      <td>TO</td>\n",
       "      <td>XAMBIOA</td>\n",
       "      <td>Centro</td>\n",
       "      <td>R Sete De Setembro C/ Rua Joao Saraiva Dos San...</td>\n",
       "      <td>24375589000170</td>\n",
       "      <td>Matos &amp; Navarro Ltda - ME</td>\n",
       "      <td>NaN</td>\n",
       "      <td>Revenda de Combustíveis</td>\n",
       "      <td>2018-07-04</td>\n",
       "      <td>534943</td>\n",
       "      <td>Boletim de Fiscalização</td>\n",
       "      <td>Ação de Fiscalização - Outras Situações</td>\n",
       "    </tr>\n",
       "  </tbody>\n",
       "</table>\n",
       "<p>159800 rows × 12 columns</p>\n",
       "</div>"
      ],
      "text/plain": [
       "        UF     Município         Bairro  \\\n",
       "0       AC    ACRELANDIA     ZONA RURAL   \n",
       "2       AC    ACRELANDIA     ZONA RURAL   \n",
       "3       AC    ACRELANDIA     ZONA RURAL   \n",
       "5       AC    ACRELANDIA     ZONA RURAL   \n",
       "6       AC    ACRELANDIA     ZONA RURAL   \n",
       "...     ..           ...            ...   \n",
       "395923  TO  WANDERLANDIA  Setor Central   \n",
       "395924  TO  WANDERLANDIA  Setor Central   \n",
       "395926  TO       XAMBIOA         Centro   \n",
       "395933  TO       XAMBIOA         CENTRO   \n",
       "395942  TO       XAMBIOA         Centro   \n",
       "\n",
       "                                                 Endereço        CNPJ/CPF  \\\n",
       "0       RODOVIA BR 364 KM 96, M. DIREITA SENTIDO RIO B...   7481893000183   \n",
       "2       RODOVIA BR 364 KM 96, M. DIREITA SENTIDO RIO B...   7481893000183   \n",
       "3       RODOVIA BR 364 KM 96, M. DIREITA SENTIDO RIO B...   7481893000183   \n",
       "5       RODOVIA BR 364 KM 96, M. DIREITA SENTIDO RIO B...   7481893000183   \n",
       "6       RODOVIA BR 364 KM 96, M. DIREITA SENTIDO RIO B...   7481893000183   \n",
       "...                                                   ...             ...   \n",
       "395923                      AVENIDA   GOMES FERREIRA, sn    2280133005153   \n",
       "395924                      AVENIDA   GOMES FERREIRA, sn    2280133005153   \n",
       "395926  R Sete De Setembro C/ Rua Joao Saraiva Dos San...  24375589000170   \n",
       "395933                          RUA ANTONIO MARANHÃO, 434   9429072000123   \n",
       "395942  R Sete De Setembro C/ Rua Joao Saraiva Dos San...  24375589000170   \n",
       "\n",
       "                   Agente Econômico  Codigo_Componente  \\\n",
       "0        AUTO POSTO CAMARINI EIRELI                1.0   \n",
       "2        AUTO POSTO CAMARINI EIRELI                1.0   \n",
       "3        AUTO POSTO CAMARINI EIRELI                1.0   \n",
       "5        AUTO POSTO CAMARINI EIRELI                1.0   \n",
       "6        AUTO POSTO CAMARINI EIRELI                1.0   \n",
       "...                             ...                ...   \n",
       "395923             POSTO ICCAR LTDA                1.0   \n",
       "395924             POSTO ICCAR LTDA                1.0   \n",
       "395926   Matos & Navarro Ltda - ME                 NaN   \n",
       "395933  AUTO POSTO SANTA LUZIA LTDA                NaN   \n",
       "395942   Matos & Navarro Ltda - ME                 NaN   \n",
       "\n",
       "           Segmento Fiscalizado    Data DF  Número do Documento  \\\n",
       "0       Revenda de Combustíveis 2020-07-08               575385   \n",
       "2       Revenda de Combustíveis 2020-07-08               575385   \n",
       "3       Revenda de Combustíveis 2020-07-08               575385   \n",
       "5       Revenda de Combustíveis 2020-07-08               575385   \n",
       "6       Revenda de Combustíveis 2020-07-08               575385   \n",
       "...                         ...        ...                  ...   \n",
       "395923  Revenda de Combustíveis 2019-10-31               558063   \n",
       "395924  Revenda de Combustíveis 2019-10-31               558063   \n",
       "395926  Revenda de Combustíveis 2018-05-17               533297   \n",
       "395933  Revenda de Combustíveis 2018-05-17               533298   \n",
       "395942  Revenda de Combustíveis 2018-07-04               534943   \n",
       "\n",
       "       Procedimento de Fiscalização  \\\n",
       "0           Boletim de Fiscalização   \n",
       "2           Boletim de Fiscalização   \n",
       "3           Boletim de Fiscalização   \n",
       "5           Boletim de Fiscalização   \n",
       "6           Boletim de Fiscalização   \n",
       "...                             ...   \n",
       "395923      Boletim de Fiscalização   \n",
       "395924      Boletim de Fiscalização   \n",
       "395926      Boletim de Fiscalização   \n",
       "395933      Boletim de Fiscalização   \n",
       "395942      Boletim de Fiscalização   \n",
       "\n",
       "                                                Resultado  \n",
       "0                           Ação de fiscalização em campo  \n",
       "2                 Ação de Fiscalização - Outras Situações  \n",
       "3                     ATIV ECON - Revenda de Combustíveis  \n",
       "5       Ação de fiscalização conjunta com outros órgão...  \n",
       "6          Ação de fiscalização realizada em Força Tarefa  \n",
       "...                                                   ...  \n",
       "395923            Ação de Fiscalização - Outras Situações  \n",
       "395924                      Ação de fiscalização em campo  \n",
       "395926            Ação de Fiscalização - Outras Situações  \n",
       "395933            Ação de Fiscalização - Outras Situações  \n",
       "395942            Ação de Fiscalização - Outras Situações  \n",
       "\n",
       "[159800 rows x 12 columns]"
      ]
     },
     "execution_count": 83,
     "metadata": {},
     "output_type": "execute_result"
    }
   ],
   "source": [
    "# verificando se temos os dados corretos\n",
    "df_revenda = df_fiscalizacoes[df_fiscalizacoes['CNPJ/CPF'].isin(df['CNPJ'])]\n",
    "df_revenda"
   ]
  },
  {
   "cell_type": "markdown",
   "id": "16f32e4f-904e-4406-a54c-b11d08fa8298",
   "metadata": {},
   "source": [
    "De fato, temos a informação sobre se cada posto é bandeira branca ou não para todos os registros do dataframe. \n",
    "\n",
    "Então vamos agregar esta informação:"
   ]
  },
  {
   "cell_type": "code",
   "execution_count": 90,
   "id": "16753a02-8bfc-405e-802c-ab203e371be6",
   "metadata": {},
   "outputs": [],
   "source": [
    "# fazemos um merge(famoso procv) para unir ambos os dataframes utilizados na análise baseados no CNPJ como interseção \n",
    "df_final = pd.merge(df_fiscalizacoes, df_postos, left_on='CNPJ/CPF', right_on='CNPJ', how='left')"
   ]
  },
  {
   "cell_type": "code",
   "execution_count": 91,
   "id": "e25fba28-4553-41c9-906c-060a7aa6e5ef",
   "metadata": {},
   "outputs": [
    {
     "data": {
      "text/html": [
       "<div>\n",
       "<style scoped>\n",
       "    .dataframe tbody tr th:only-of-type {\n",
       "        vertical-align: middle;\n",
       "    }\n",
       "\n",
       "    .dataframe tbody tr th {\n",
       "        vertical-align: top;\n",
       "    }\n",
       "\n",
       "    .dataframe thead th {\n",
       "        text-align: right;\n",
       "    }\n",
       "</style>\n",
       "<table border=\"1\" class=\"dataframe\">\n",
       "  <thead>\n",
       "    <tr style=\"text-align: right;\">\n",
       "      <th></th>\n",
       "      <th>UF</th>\n",
       "      <th>Município</th>\n",
       "      <th>Bairro</th>\n",
       "      <th>Endereço</th>\n",
       "      <th>CNPJ/CPF</th>\n",
       "      <th>Agente Econômico</th>\n",
       "      <th>Codigo_Componente</th>\n",
       "      <th>Segmento Fiscalizado</th>\n",
       "      <th>Data DF</th>\n",
       "      <th>Número do Documento</th>\n",
       "      <th>Procedimento de Fiscalização</th>\n",
       "      <th>Resultado</th>\n",
       "      <th>CNPJ</th>\n",
       "      <th>BANDEIRA_BRANCA</th>\n",
       "    </tr>\n",
       "  </thead>\n",
       "  <tbody>\n",
       "    <tr>\n",
       "      <th>0</th>\n",
       "      <td>AC</td>\n",
       "      <td>ACRELANDIA</td>\n",
       "      <td>ZONA RURAL</td>\n",
       "      <td>RODOVIA BR 364 KM 96, M. DIREITA SENTIDO RIO B...</td>\n",
       "      <td>7481893000183</td>\n",
       "      <td>AUTO POSTO CAMARINI EIRELI</td>\n",
       "      <td>1.0</td>\n",
       "      <td>Revenda de Combustíveis</td>\n",
       "      <td>2020-07-08</td>\n",
       "      <td>575385</td>\n",
       "      <td>Boletim de Fiscalização</td>\n",
       "      <td>Ação de fiscalização em campo</td>\n",
       "      <td>7481893000183</td>\n",
       "      <td>não</td>\n",
       "    </tr>\n",
       "    <tr>\n",
       "      <th>1</th>\n",
       "      <td>AC</td>\n",
       "      <td>ACRELANDIA</td>\n",
       "      <td>ZONA RURAL</td>\n",
       "      <td>RODOVIA BR 364 KM 96, M. DIREITA SENTIDO RIO B...</td>\n",
       "      <td>7481893000183</td>\n",
       "      <td>AUTO POSTO CAMARINI EIRELI</td>\n",
       "      <td>1.0</td>\n",
       "      <td>Revenda de Combustíveis</td>\n",
       "      <td>2020-07-08</td>\n",
       "      <td>575385</td>\n",
       "      <td>Boletim de Fiscalização</td>\n",
       "      <td>Ação de Fiscalização - Outras Situações</td>\n",
       "      <td>7481893000183</td>\n",
       "      <td>não</td>\n",
       "    </tr>\n",
       "    <tr>\n",
       "      <th>2</th>\n",
       "      <td>AC</td>\n",
       "      <td>ACRELANDIA</td>\n",
       "      <td>ZONA RURAL</td>\n",
       "      <td>RODOVIA BR 364 KM 96, M. DIREITA SENTIDO RIO B...</td>\n",
       "      <td>7481893000183</td>\n",
       "      <td>AUTO POSTO CAMARINI EIRELI</td>\n",
       "      <td>1.0</td>\n",
       "      <td>Revenda de Combustíveis</td>\n",
       "      <td>2020-07-08</td>\n",
       "      <td>575385</td>\n",
       "      <td>Boletim de Fiscalização</td>\n",
       "      <td>ATIV ECON - Revenda de Combustíveis</td>\n",
       "      <td>7481893000183</td>\n",
       "      <td>não</td>\n",
       "    </tr>\n",
       "    <tr>\n",
       "      <th>3</th>\n",
       "      <td>AC</td>\n",
       "      <td>ACRELANDIA</td>\n",
       "      <td>ZONA RURAL</td>\n",
       "      <td>RODOVIA BR 364 KM 96, M. DIREITA SENTIDO RIO B...</td>\n",
       "      <td>7481893000183</td>\n",
       "      <td>AUTO POSTO CAMARINI EIRELI</td>\n",
       "      <td>1.0</td>\n",
       "      <td>Revenda de Combustíveis</td>\n",
       "      <td>2020-07-08</td>\n",
       "      <td>575385</td>\n",
       "      <td>Boletim de Fiscalização</td>\n",
       "      <td>Ação de fiscalização conjunta com outros órgão...</td>\n",
       "      <td>7481893000183</td>\n",
       "      <td>não</td>\n",
       "    </tr>\n",
       "    <tr>\n",
       "      <th>4</th>\n",
       "      <td>AC</td>\n",
       "      <td>ACRELANDIA</td>\n",
       "      <td>ZONA RURAL</td>\n",
       "      <td>RODOVIA BR 364 KM 96, M. DIREITA SENTIDO RIO B...</td>\n",
       "      <td>7481893000183</td>\n",
       "      <td>AUTO POSTO CAMARINI EIRELI</td>\n",
       "      <td>1.0</td>\n",
       "      <td>Revenda de Combustíveis</td>\n",
       "      <td>2020-07-08</td>\n",
       "      <td>575385</td>\n",
       "      <td>Boletim de Fiscalização</td>\n",
       "      <td>Ação de fiscalização realizada em Força Tarefa</td>\n",
       "      <td>7481893000183</td>\n",
       "      <td>não</td>\n",
       "    </tr>\n",
       "    <tr>\n",
       "      <th>...</th>\n",
       "      <td>...</td>\n",
       "      <td>...</td>\n",
       "      <td>...</td>\n",
       "      <td>...</td>\n",
       "      <td>...</td>\n",
       "      <td>...</td>\n",
       "      <td>...</td>\n",
       "      <td>...</td>\n",
       "      <td>...</td>\n",
       "      <td>...</td>\n",
       "      <td>...</td>\n",
       "      <td>...</td>\n",
       "      <td>...</td>\n",
       "      <td>...</td>\n",
       "    </tr>\n",
       "    <tr>\n",
       "      <th>159795</th>\n",
       "      <td>TO</td>\n",
       "      <td>WANDERLANDIA</td>\n",
       "      <td>Setor Central</td>\n",
       "      <td>AVENIDA   GOMES FERREIRA, sn</td>\n",
       "      <td>2280133005153</td>\n",
       "      <td>POSTO ICCAR LTDA</td>\n",
       "      <td>1.0</td>\n",
       "      <td>Revenda de Combustíveis</td>\n",
       "      <td>2019-10-31</td>\n",
       "      <td>558063</td>\n",
       "      <td>Boletim de Fiscalização</td>\n",
       "      <td>Ação de Fiscalização - Outras Situações</td>\n",
       "      <td>2280133005153</td>\n",
       "      <td>sim</td>\n",
       "    </tr>\n",
       "    <tr>\n",
       "      <th>159796</th>\n",
       "      <td>TO</td>\n",
       "      <td>WANDERLANDIA</td>\n",
       "      <td>Setor Central</td>\n",
       "      <td>AVENIDA   GOMES FERREIRA, sn</td>\n",
       "      <td>2280133005153</td>\n",
       "      <td>POSTO ICCAR LTDA</td>\n",
       "      <td>1.0</td>\n",
       "      <td>Revenda de Combustíveis</td>\n",
       "      <td>2019-10-31</td>\n",
       "      <td>558063</td>\n",
       "      <td>Boletim de Fiscalização</td>\n",
       "      <td>Ação de fiscalização em campo</td>\n",
       "      <td>2280133005153</td>\n",
       "      <td>sim</td>\n",
       "    </tr>\n",
       "    <tr>\n",
       "      <th>159797</th>\n",
       "      <td>TO</td>\n",
       "      <td>XAMBIOA</td>\n",
       "      <td>Centro</td>\n",
       "      <td>R Sete De Setembro C/ Rua Joao Saraiva Dos San...</td>\n",
       "      <td>24375589000170</td>\n",
       "      <td>Matos &amp; Navarro Ltda - ME</td>\n",
       "      <td>NaN</td>\n",
       "      <td>Revenda de Combustíveis</td>\n",
       "      <td>2018-05-17</td>\n",
       "      <td>533297</td>\n",
       "      <td>Boletim de Fiscalização</td>\n",
       "      <td>Ação de Fiscalização - Outras Situações</td>\n",
       "      <td>24375589000170</td>\n",
       "      <td>sim</td>\n",
       "    </tr>\n",
       "    <tr>\n",
       "      <th>159798</th>\n",
       "      <td>TO</td>\n",
       "      <td>XAMBIOA</td>\n",
       "      <td>CENTRO</td>\n",
       "      <td>RUA ANTONIO MARANHÃO, 434</td>\n",
       "      <td>9429072000123</td>\n",
       "      <td>AUTO POSTO SANTA LUZIA LTDA</td>\n",
       "      <td>NaN</td>\n",
       "      <td>Revenda de Combustíveis</td>\n",
       "      <td>2018-05-17</td>\n",
       "      <td>533298</td>\n",
       "      <td>Boletim de Fiscalização</td>\n",
       "      <td>Ação de Fiscalização - Outras Situações</td>\n",
       "      <td>9429072000123</td>\n",
       "      <td>sim</td>\n",
       "    </tr>\n",
       "    <tr>\n",
       "      <th>159799</th>\n",
       "      <td>TO</td>\n",
       "      <td>XAMBIOA</td>\n",
       "      <td>Centro</td>\n",
       "      <td>R Sete De Setembro C/ Rua Joao Saraiva Dos San...</td>\n",
       "      <td>24375589000170</td>\n",
       "      <td>Matos &amp; Navarro Ltda - ME</td>\n",
       "      <td>NaN</td>\n",
       "      <td>Revenda de Combustíveis</td>\n",
       "      <td>2018-07-04</td>\n",
       "      <td>534943</td>\n",
       "      <td>Boletim de Fiscalização</td>\n",
       "      <td>Ação de Fiscalização - Outras Situações</td>\n",
       "      <td>24375589000170</td>\n",
       "      <td>sim</td>\n",
       "    </tr>\n",
       "  </tbody>\n",
       "</table>\n",
       "<p>159800 rows × 14 columns</p>\n",
       "</div>"
      ],
      "text/plain": [
       "        UF     Município         Bairro  \\\n",
       "0       AC    ACRELANDIA     ZONA RURAL   \n",
       "1       AC    ACRELANDIA     ZONA RURAL   \n",
       "2       AC    ACRELANDIA     ZONA RURAL   \n",
       "3       AC    ACRELANDIA     ZONA RURAL   \n",
       "4       AC    ACRELANDIA     ZONA RURAL   \n",
       "...     ..           ...            ...   \n",
       "159795  TO  WANDERLANDIA  Setor Central   \n",
       "159796  TO  WANDERLANDIA  Setor Central   \n",
       "159797  TO       XAMBIOA         Centro   \n",
       "159798  TO       XAMBIOA         CENTRO   \n",
       "159799  TO       XAMBIOA         Centro   \n",
       "\n",
       "                                                 Endereço        CNPJ/CPF  \\\n",
       "0       RODOVIA BR 364 KM 96, M. DIREITA SENTIDO RIO B...   7481893000183   \n",
       "1       RODOVIA BR 364 KM 96, M. DIREITA SENTIDO RIO B...   7481893000183   \n",
       "2       RODOVIA BR 364 KM 96, M. DIREITA SENTIDO RIO B...   7481893000183   \n",
       "3       RODOVIA BR 364 KM 96, M. DIREITA SENTIDO RIO B...   7481893000183   \n",
       "4       RODOVIA BR 364 KM 96, M. DIREITA SENTIDO RIO B...   7481893000183   \n",
       "...                                                   ...             ...   \n",
       "159795                      AVENIDA   GOMES FERREIRA, sn    2280133005153   \n",
       "159796                      AVENIDA   GOMES FERREIRA, sn    2280133005153   \n",
       "159797  R Sete De Setembro C/ Rua Joao Saraiva Dos San...  24375589000170   \n",
       "159798                          RUA ANTONIO MARANHÃO, 434   9429072000123   \n",
       "159799  R Sete De Setembro C/ Rua Joao Saraiva Dos San...  24375589000170   \n",
       "\n",
       "                   Agente Econômico  Codigo_Componente  \\\n",
       "0        AUTO POSTO CAMARINI EIRELI                1.0   \n",
       "1        AUTO POSTO CAMARINI EIRELI                1.0   \n",
       "2        AUTO POSTO CAMARINI EIRELI                1.0   \n",
       "3        AUTO POSTO CAMARINI EIRELI                1.0   \n",
       "4        AUTO POSTO CAMARINI EIRELI                1.0   \n",
       "...                             ...                ...   \n",
       "159795             POSTO ICCAR LTDA                1.0   \n",
       "159796             POSTO ICCAR LTDA                1.0   \n",
       "159797   Matos & Navarro Ltda - ME                 NaN   \n",
       "159798  AUTO POSTO SANTA LUZIA LTDA                NaN   \n",
       "159799   Matos & Navarro Ltda - ME                 NaN   \n",
       "\n",
       "           Segmento Fiscalizado    Data DF  Número do Documento  \\\n",
       "0       Revenda de Combustíveis 2020-07-08               575385   \n",
       "1       Revenda de Combustíveis 2020-07-08               575385   \n",
       "2       Revenda de Combustíveis 2020-07-08               575385   \n",
       "3       Revenda de Combustíveis 2020-07-08               575385   \n",
       "4       Revenda de Combustíveis 2020-07-08               575385   \n",
       "...                         ...        ...                  ...   \n",
       "159795  Revenda de Combustíveis 2019-10-31               558063   \n",
       "159796  Revenda de Combustíveis 2019-10-31               558063   \n",
       "159797  Revenda de Combustíveis 2018-05-17               533297   \n",
       "159798  Revenda de Combustíveis 2018-05-17               533298   \n",
       "159799  Revenda de Combustíveis 2018-07-04               534943   \n",
       "\n",
       "       Procedimento de Fiscalização  \\\n",
       "0           Boletim de Fiscalização   \n",
       "1           Boletim de Fiscalização   \n",
       "2           Boletim de Fiscalização   \n",
       "3           Boletim de Fiscalização   \n",
       "4           Boletim de Fiscalização   \n",
       "...                             ...   \n",
       "159795      Boletim de Fiscalização   \n",
       "159796      Boletim de Fiscalização   \n",
       "159797      Boletim de Fiscalização   \n",
       "159798      Boletim de Fiscalização   \n",
       "159799      Boletim de Fiscalização   \n",
       "\n",
       "                                                Resultado            CNPJ  \\\n",
       "0                           Ação de fiscalização em campo   7481893000183   \n",
       "1                 Ação de Fiscalização - Outras Situações   7481893000183   \n",
       "2                     ATIV ECON - Revenda de Combustíveis   7481893000183   \n",
       "3       Ação de fiscalização conjunta com outros órgão...   7481893000183   \n",
       "4          Ação de fiscalização realizada em Força Tarefa   7481893000183   \n",
       "...                                                   ...             ...   \n",
       "159795            Ação de Fiscalização - Outras Situações   2280133005153   \n",
       "159796                      Ação de fiscalização em campo   2280133005153   \n",
       "159797            Ação de Fiscalização - Outras Situações  24375589000170   \n",
       "159798            Ação de Fiscalização - Outras Situações   9429072000123   \n",
       "159799            Ação de Fiscalização - Outras Situações  24375589000170   \n",
       "\n",
       "       BANDEIRA_BRANCA  \n",
       "0                  não  \n",
       "1                  não  \n",
       "2                  não  \n",
       "3                  não  \n",
       "4                  não  \n",
       "...                ...  \n",
       "159795             sim  \n",
       "159796             sim  \n",
       "159797             sim  \n",
       "159798             sim  \n",
       "159799             sim  \n",
       "\n",
       "[159800 rows x 14 columns]"
      ]
     },
     "execution_count": 91,
     "metadata": {},
     "output_type": "execute_result"
    }
   ],
   "source": [
    "df_final"
   ]
  },
  {
   "cell_type": "code",
   "execution_count": 92,
   "id": "a52f9d96-0c94-45bc-9170-5d3ed209dca4",
   "metadata": {},
   "outputs": [],
   "source": [
    "# pegando apenas o que interessa no momento\n",
    "df_final = df_final[[\"CNPJ\",\"BANDEIRA_BRANCA\"]]"
   ]
  },
  {
   "cell_type": "code",
   "execution_count": 93,
   "id": "b498f112-90ac-4272-804e-201ae8b8df9f",
   "metadata": {},
   "outputs": [
    {
     "data": {
      "text/html": [
       "<div>\n",
       "<style scoped>\n",
       "    .dataframe tbody tr th:only-of-type {\n",
       "        vertical-align: middle;\n",
       "    }\n",
       "\n",
       "    .dataframe tbody tr th {\n",
       "        vertical-align: top;\n",
       "    }\n",
       "\n",
       "    .dataframe thead th {\n",
       "        text-align: right;\n",
       "    }\n",
       "</style>\n",
       "<table border=\"1\" class=\"dataframe\">\n",
       "  <thead>\n",
       "    <tr style=\"text-align: right;\">\n",
       "      <th></th>\n",
       "      <th>CNPJ</th>\n",
       "      <th>BANDEIRA_BRANCA</th>\n",
       "    </tr>\n",
       "  </thead>\n",
       "  <tbody>\n",
       "    <tr>\n",
       "      <th>0</th>\n",
       "      <td>7481893000183</td>\n",
       "      <td>não</td>\n",
       "    </tr>\n",
       "    <tr>\n",
       "      <th>1</th>\n",
       "      <td>7481893000183</td>\n",
       "      <td>não</td>\n",
       "    </tr>\n",
       "    <tr>\n",
       "      <th>2</th>\n",
       "      <td>7481893000183</td>\n",
       "      <td>não</td>\n",
       "    </tr>\n",
       "    <tr>\n",
       "      <th>3</th>\n",
       "      <td>7481893000183</td>\n",
       "      <td>não</td>\n",
       "    </tr>\n",
       "    <tr>\n",
       "      <th>4</th>\n",
       "      <td>7481893000183</td>\n",
       "      <td>não</td>\n",
       "    </tr>\n",
       "  </tbody>\n",
       "</table>\n",
       "</div>"
      ],
      "text/plain": [
       "            CNPJ BANDEIRA_BRANCA\n",
       "0  7481893000183             não\n",
       "1  7481893000183             não\n",
       "2  7481893000183             não\n",
       "3  7481893000183             não\n",
       "4  7481893000183             não"
      ]
     },
     "execution_count": 93,
     "metadata": {},
     "output_type": "execute_result"
    }
   ],
   "source": [
    "df_final.head()"
   ]
  },
  {
   "cell_type": "code",
   "execution_count": 99,
   "id": "bca1197e-e78c-4f67-8b3a-384197e5a869",
   "metadata": {},
   "outputs": [
    {
     "name": "stdout",
     "output_type": "stream",
     "text": [
      "159800\n"
     ]
    }
   ],
   "source": [
    "postos = df_final.shape[0]\n",
    "print(postos)"
   ]
  },
  {
   "cell_type": "code",
   "execution_count": 94,
   "id": "d3246b46-3f46-4153-8c72-069dcde9ecaa",
   "metadata": {},
   "outputs": [
    {
     "name": "stdout",
     "output_type": "stream",
     "text": [
      "67628\n",
      "92172\n"
     ]
    }
   ],
   "source": [
    "contagem_fiscalizacoes_branca = df_final[df_final['BANDEIRA_BRANCA'] == 'sim'].shape[0]\n",
    "print(contagem_fiscalizacoes_branca)\n",
    "contagem_fiscalizacoes_embandeirado = df_final[df_final['BANDEIRA_BRANCA'] == 'não'].shape[0]\n",
    "print(contagem_fiscalizacoes_embandeirado)"
   ]
  },
  {
   "cell_type": "markdown",
   "id": "c68a934f-3b35-45df-8f67-0c3eedc41ed4",
   "metadata": {},
   "source": [
    "Logo, podemos contabilizar **67628** fiscalizações em postos de bandeira branca.\n",
    "\n",
    "Ao tempo, que observamos **92172** fiscalizações em postos embandeirados."
   ]
  },
  {
   "cell_type": "code",
   "execution_count": 107,
   "id": "60930f7e-e107-44f8-8c0f-a4dca4b1bedf",
   "metadata": {},
   "outputs": [
    {
     "name": "stdout",
     "output_type": "stream",
     "text": [
      "42.32%\n"
     ]
    }
   ],
   "source": [
    "porcentagem_fiscalizacoes_branca = round(contagem_fiscalizacoes_branca / postos * 100, 2)\n",
    "print(f\"{porcentagem_fiscalizacoes_branca}%\")"
   ]
  },
  {
   "cell_type": "markdown",
   "id": "6d2b0cbe-201d-4731-8bdc-11236c87221a",
   "metadata": {},
   "source": [
    "As fiscalizações em postos de bandeira branca representam 42,32% do total de fiscalizações"
   ]
  },
  {
   "cell_type": "code",
   "execution_count": 108,
   "id": "a509fae3-6443-4f98-b00b-85567676edc6",
   "metadata": {},
   "outputs": [
    {
     "name": "stdout",
     "output_type": "stream",
     "text": [
      "57.68%\n"
     ]
    }
   ],
   "source": [
    "porcentagem_fiscalizacao_embandeirados = round(contagem_fiscalizacoes_embandeirado / postos * 100, 2)\n",
    "print(f\"{porcentagem_fiscalizacao_embandeirados}%\")"
   ]
  },
  {
   "cell_type": "markdown",
   "id": "4d909237-07d3-40e9-b03e-0b7b81a5742d",
   "metadata": {},
   "source": [
    "As fiscalizações em postos embandeirados representam 57,68% do total de fiscalizações"
   ]
  },
  {
   "cell_type": "code",
   "execution_count": 116,
   "id": "0040e25c-c1de-4ec8-ae10-3056a7d19b1c",
   "metadata": {},
   "outputs": [
    {
     "name": "stdout",
     "output_type": "stream",
     "text": [
      "Observa-se uma propoção de fiscalização em postos de bandeira branca de 0.73%\n"
     ]
    }
   ],
   "source": [
    "proporcao_fiscalizacao_bandeira_branca =  contagem_fiscalizacoes_branca / contagem_fiscalizacoes_embandeirado\n",
    "print(f\"Observa-se uma propoção de fiscalização em postos de bandeira branca de {round(proporcao_fiscalizacao_bandeira_branca,2)}%\")"
   ]
  },
  {
   "cell_type": "code",
   "execution_count": 117,
   "id": "33d29eff-8832-4177-b42c-40274abcb5bf",
   "metadata": {},
   "outputs": [
    {
     "name": "stdout",
     "output_type": "stream",
     "text": [
      "Observa-se uma proporção de fiscalização em postos embandeirados de 1.36%\n"
     ]
    }
   ],
   "source": [
    "proporcao_fiscalizacao_embandeirados = contagem_fiscalizacoes_embandeirado / contagem_fiscalizacoes_branca\n",
    "print(f\"Observa-se uma proporção de fiscalização em postos embandeirados de {round(proporcao_fiscalizacao_embandeirados,2)}%\")"
   ]
  },
  {
   "cell_type": "markdown",
   "id": "874ad82e-851d-4c02-9241-8e318281a04f",
   "metadata": {},
   "source": [
    "A proporção de fiscalizações entre postos bandeira branca e embandeirados é de 0.73. Isso indica que, em média, os postos bandeira branca recebem menos fiscalizações do que os embandeirados.\n",
    "\n",
    "A proporção de fiscalizações entre postos embandeirados e bandeira branca é de 1.36. Isso sugere que, em média, os postos embandeirados recebem 1.36 vezes mais fiscalizações do que os de bandeira branca."
   ]
  },
  {
   "cell_type": "markdown",
   "id": "52b4edbe-83c2-4d5c-ab9f-2ac8f6b39a14",
   "metadata": {},
   "source": [
    "## Conclusão - seção 2"
   ]
  },
  {
   "cell_type": "markdown",
   "id": "aca348b0-382e-421a-9ba5-174e7965dfcf",
   "metadata": {},
   "source": [
    "Após filtrar os dados para obtermos as fiscalizações que tenham como segmento fiscalizado o segmento de revendas e que tenham como Procedimento de fiscalização apenas o Boletim de Fiscalização, Cruzamos os dados obtidos da seção 1 a fim de agregar a informação quanto a bandeira do posto a partir do CNPJ. \n",
    "\n",
    "Assim, podemos constatar que, ao menos em numeros brutos, as fiscalizações são mais frequentes em postos embandeirados.\n",
    "\n",
    "Entretanto, para conclusões mais sólidas, faz-se necessário a análise estatística baseada na proporção observada ainda na seção 1, tendo em vista que numericamente os postos embandeirados são encontrados em maior quantidade."
   ]
  },
  {
   "cell_type": "markdown",
   "id": "49f75e5b-afcb-4ea1-af0c-a51f52151363",
   "metadata": {},
   "source": [
    "## Seção 3"
   ]
  },
  {
   "cell_type": "markdown",
   "id": "56561fc4-2940-4724-adf2-963cc2ef69d5",
   "metadata": {},
   "source": [
    "**objetivo**: análise estatística baseada na proporção \n",
    "\n",
    "**Descrição**: Para alçar o objetivo devemos realizar a contagem de fiscalizações ajustada pela proporção e a comparação de Frequências Ajustadas"
   ]
  },
  {
   "cell_type": "markdown",
   "id": "e6e3dcb7-4dbd-4656-b6ac-f40fd0edcbee",
   "metadata": {},
   "source": [
    "**Contagem de Fiscalizações Ajustada pela Proporção**:\n",
    "\n",
    "ajustar os números levando em consideração a proporção de postos bandeira branca e embandeirados e assim ponderar as frequências de fiscalizações de acordo com essa proporção."
   ]
  },
  {
   "cell_type": "code",
   "execution_count": 118,
   "id": "66b17085-3cf9-4200-978a-3e9b965e73e6",
   "metadata": {},
   "outputs": [
    {
     "name": "stdout",
     "output_type": "stream",
     "text": [
      "0.4717388341133173\n",
      "31902.753873415422\n",
      "48690.888182107316\n"
     ]
    }
   ],
   "source": [
    "# Calculando a proporção de postos bandeira branca em relação aos embandeirados\n",
    "proporcao_bandeira_branca = contagem_bandeira_branca / total_postos\n",
    "print(proporcao_bandeira_branca)\n",
    "\n",
    "# Ajustando a contagem de fiscalizações para considerar a proporção\n",
    "contagem_fiscalizacoes_branca_ajustada = contagem_fiscalizacoes_branca * proporcao_bandeira_branca\n",
    "print(contagem_fiscalizacoes_branca_ajustada)\n",
    "contagem_fiscalizacoes_embandeirado_ajustada = contagem_fiscalizacoes_embandeirado * (1 - proporcao_bandeira_branca)\n",
    "print(contagem_fiscalizacoes_embandeirado_ajustada)"
   ]
  },
  {
   "cell_type": "markdown",
   "id": "2856fd14-82e3-4eb4-ad87-31bd7b93b658",
   "metadata": {},
   "source": [
    "**Comparação de Frequências Ajustadas**:\n",
    "\n",
    "Comparando as frequências de fiscalizações ajustadas para determinar se os postos bandeira branca são mais ou menos fiscalizados do que os postos embandeirados, levando em conta a proporção de postos."
   ]
  },
  {
   "cell_type": "code",
   "execution_count": 119,
   "id": "8bc33e7f-fd4c-42fe-a6e7-19a48cf7393a",
   "metadata": {},
   "outputs": [
    {
     "name": "stdout",
     "output_type": "stream",
     "text": [
      "Os postos embandeirados são mais fiscalizados.\n"
     ]
    }
   ],
   "source": [
    "# Comparando as frequências de fiscalizações ajustadas\n",
    "if contagem_fiscalizacoes_branca_ajustada > contagem_fiscalizacoes_embandeirado_ajustada:\n",
    "    print(\"Os postos bandeira branca são mais fiscalizados.\")\n",
    "elif contagem_fiscalizacoes_branca_ajustada < contagem_fiscalizacoes_embandeirado_ajustada:\n",
    "    print(\"Os postos embandeirados são mais fiscalizados.\")\n",
    "else:\n",
    "    print(\"A frequência de fiscalização é a mesma para ambos os grupos.\")"
   ]
  },
  {
   "cell_type": "markdown",
   "id": "bdf660f1-e011-4187-88ee-e4b5ec34db7a",
   "metadata": {},
   "source": [
    "## Conclusão:"
   ]
  },
  {
   "cell_type": "markdown",
   "id": "4fd781fd-cc65-40dd-94d7-335e3b80716d",
   "metadata": {
    "jupyter": {
     "outputs_hidden": true
    },
    "tags": []
   },
   "source": [
    "- A análise estatística considerando a proporção de postos bandeira branca em relação aos embandeirados, demonstra que os postos embandeirados tendem a ser mais fiscalizados.\n",
    "- Uma nova análise levando em conta as localidades geográficas pode trazer novos insights.\n",
    "- Ademais, se considerarmos os diferentes tipos de fiscalização como uma forma de \"histórico de conformidade\" poderemos obter novos resultados ao ampliar o escopo da análise para além de boletins de fiscalização. "
   ]
  }
 ],
 "metadata": {
  "kernelspec": {
   "display_name": "Python 3 (ipykernel)",
   "language": "python",
   "name": "python3"
  },
  "language_info": {
   "codemirror_mode": {
    "name": "ipython",
    "version": 3
   },
   "file_extension": ".py",
   "mimetype": "text/x-python",
   "name": "python",
   "nbconvert_exporter": "python",
   "pygments_lexer": "ipython3",
   "version": "3.9.12"
  }
 },
 "nbformat": 4,
 "nbformat_minor": 5
}
